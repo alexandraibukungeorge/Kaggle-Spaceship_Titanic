{
 "cells": [
  {
   "cell_type": "markdown",
   "id": "013fd79c",
   "metadata": {
    "papermill": {
     "duration": 0.006679,
     "end_time": "2023-03-07T01:28:33.369123",
     "exception": false,
     "start_time": "2023-03-07T01:28:33.362444",
     "status": "completed"
    },
   
   ]
  },
  {
   "cell_type": "markdown",
   "id": "02527706",
   "metadata": {},
   "source": [
    "<hr style=\"height:.9px;border:none;color:#333;background-color:#333;\" />\n",
    "\n",
    "# Introduction"
   ]
  },
  {
   "cell_type": "markdown",
   "id": "37fbb5e6",
   "metadata": {},
   "source": [
    "The Spaceship Titanic embarked on its inaugural journey towards newly habitable planets in nearby orbiting stars but unfortunately, while enroute to its first destination, the torrid 55 Cancri E, the spaceship encountered a spacetime anomaly hidden within a dust cloud and collided with it.\n",
    "\n",
    "The objective is to create and submit accurate predictions regarding the fate of the passengers aboard the Spaceship Titanic and to assist the crew in retrieving lost passengers, this script utilizes the train dataset in the database to create a predictive model. The aim is to predict whether the passengers were transported to another dimension when the Spaceship Titanic collided with the spacetime anomaly.\n",
    "\n",
    "The script will cover various aspects, including exploratory data analysis (EDA), data cleaning, and feature engineering, such as encoding, scaling, and pre-processing. Furthermore, a combination of parametric and non-parametric models was developed, and cross-validation and hyperparameter tuning were used to optimize the models’ performance.\n",
    "\n",
    "To achieve this goal, the following steps were taken:\n",
    "\n",
    "- \tExploratory data analysis (EDA) to understand the data and identify patterns\n",
    "- \tData cleaning to ensure the data was accurate and consistent\n",
    "- \tFeature engineering, including encoding, scaling, and pre-processing to enhance the predictive power of the model\n",
    "- \tDevelopment of non-parametric and parametric models to predict the outcome\n",
    "- \tCross-validation to test the accuracy of the model\n",
    "- \tHyperparameter tuning to optimize the model's performance\n",
    "- \tThe creation and submission of predictions.\n",
    "\n",
    "\n",
    "Finally, the analysis yields three actionable insights that can help improve safety and profitability in the future:\n",
    "\n",
    "- \tIdentification of the most critical factors that affect passenger survival in the event of a spaceship collision\n",
    "- \tThe importance of incorporating real-time anomaly detection systems to identify and avoid potential hazards\n",
    "- \tThe value of incorporating emergency protocols and communication channels to increase the likelihood of passenger survival in the event of an incident.\n",
    "\n",
    "By following these recommendations, future commercial space travel endeavors can be made safer, minimizing the risks to both passengers and crew members and ensure profitability for investors.\n"
   ]
  },
  {
   "cell_type": "markdown",
   "id": "a7734c6a",
   "metadata": {
    "deletable": false,
    "editable": false
   },
   "source": [
    "<hr style=\"height:.9px;border:none;color:#333;background-color:#333;\" />\n",
    "\n",
    "# Import Data & Preparation"
   ]
  },
  {
   "cell_type": "markdown",
   "id": "2b69d3bc",
   "metadata": {
    "papermill": {
     "duration": 0.005085,
     "end_time": "2023-03-07T01:28:33.379824",
     "exception": false,
     "start_time": "2023-03-07T01:28:33.374739",
     "status": "completed"
    },
    "tags": []
   },
   "source": [
    "--------------------------------------------\n",
    "## Initial exploration"
   ]
  },
  {
   "cell_type": "markdown",
   "id": "a734c758",
   "metadata": {},
   "source": [
    "Below is a starter code that comes with Jupyter Notebook."
   ]
  },
  {
   "cell_type": "code",
   "execution_count": 115,
   "id": "3959cf3e",
   "metadata": {
    "_cell_guid": "b1076dfc-b9ad-4769-8c92-a6c4dae69d19",
    "_uuid": "8f2839f25d086af736a60e9eeb907d3b93b6e0e5",
    "execution": {
     "iopub.execute_input": "2023-03-07T01:28:33.392753Z",
     "iopub.status.busy": "2023-03-07T01:28:33.392215Z",
     "iopub.status.idle": "2023-03-07T01:28:33.408469Z",
     "shell.execute_reply": "2023-03-07T01:28:33.406964Z"
    },
    "papermill": {
     "duration": 0.026809,
     "end_time": "2023-03-07T01:28:33.411976",
     "exception": false,
     "start_time": "2023-03-07T01:28:33.385167",
     "status": "completed"
    },
    "tags": []
   },
   "outputs": [],
   "source": [
    "# Import libraries\n",
    "import numpy as np # linear algebra\n",
    "import pandas as pd # data processing, CSV file I/O (e.g. pd.read_csv)\n",
    "\n",
    "import matplotlib.pyplot as plt                         # data visualization\n",
    "import seaborn as sns                                   # enhanced data viz\n",
    "from sklearn.preprocessing import LabelEncoder          # label encoder\n",
    "\n",
    "import sklearn.linear_model                             # linear modeling in scikit-learn\n",
    "import statsmodels.formula.api as smf                   # logistic regression\n",
    "\n",
    "from sklearn.tree import DecisionTreeClassifier         # classification trees\n",
    "from sklearn.tree import plot_tree                      # tree plots\n",
    "\n",
    "from sklearn.model_selection import train_test_split    # train-test split\n",
    "from sklearn.model_selection import RandomizedSearchCV  # tuning hyperparameters\n",
    "\n",
    "import sklearn.ensemble                                  # randome forest, gbm, voting classifier\n",
    "\n",
    "from sklearn.metrics import roc_auc_score               # auc score\n",
    "from sklearn.metrics import confusion_matrix            # confusion matrix\n",
    "\n",
    "\n",
    "# Set pandas print options\n",
    "pd.set_option('display.max_rows', 500)\n",
    "pd.set_option('display.max_columns', 500)\n",
    "pd.set_option('display.width', 1000)\n",
    "\n",
    "\n",
    "# This Python 3 environment comes with many helpful analytics libraries installed\n",
    "# It is defined by the kaggle/python Docker image: https://github.com/kaggle/docker-python\n",
    "# For example, here's several helpful packages to load\n",
    "# Input data files are available in the read-only \"../input/\" directory\n",
    "# For example, running this (by clicking run or pressing Shift+Enter) will list all files under the input directory\n",
    "\n",
    "#########################################################\n",
    "#import os\n",
    "#for dirname, _, filenames in os.walk('/kaggle/input'):\n",
    "#    for filename in filenames:\n",
    "#        print(os.path.join(dirname, filename))\n",
    "#########################################################\n",
    "        \n",
    "# You can write up to 20GB to the current directory (/kaggle/working/) that gets preserved as output when you create a version using \"Save & Run All\" \n",
    "# You can also write temporary files to /kaggle/temp/, but they won't be saved outside of the current session"
   ]
  },
  {
   "cell_type": "markdown",
   "id": "96209382",
   "metadata": {
    "papermill": {
     "duration": 0.005322,
     "end_time": "2023-03-07T01:28:34.511744",
     "exception": false,
     "start_time": "2023-03-07T01:28:34.506422",
     "status": "completed"
    },
    "tags": []
   },
   "source": [
    "---------------------------------------------------\n",
    "Telling Python the path to the training data"
   ]
  },
  {
   "cell_type": "code",
   "execution_count": 116,
   "id": "cb5ffa36",
   "metadata": {
    "execution": {
     "iopub.execute_input": "2023-03-07T01:28:34.524678Z",
     "iopub.status.busy": "2023-03-07T01:28:34.524247Z",
     "iopub.status.idle": "2023-03-07T01:28:34.602709Z",
     "shell.execute_reply": "2023-03-07T01:28:34.601360Z"
    },
    "papermill": {
     "duration": 0.088143,
     "end_time": "2023-03-07T01:28:34.605421",
     "exception": false,
     "start_time": "2023-03-07T01:28:34.517278",
     "status": "completed"
    },
    "tags": []
   },
   "outputs": [],
   "source": [
    "# importing the training dataset\n",
    "#path             = \"/kaggle/input/spaceship-titanic/\"\n",
    "path             = \"./\"\n",
    "training_dataset = \"train.csv\"\n",
    "\n",
    "\n",
    "# reading in the .csv file with pandas\n",
    "titanic_train    = pd.read_csv(filepath_or_buffer = path + training_dataset)\n",
    "\n",
    "\n",
    "# checking basic info about the dataset\n",
    "# titanic_train.info(verbose = True)   # commented out"
   ]
  },
  {
   "cell_type": "markdown",
   "id": "41c23eae",
   "metadata": {
    "papermill": {
     "duration": 0.005371,
     "end_time": "2023-03-07T01:28:34.616576",
     "exception": false,
     "start_time": "2023-03-07T01:28:34.611205",
     "status": "completed"
    },
    "tags": []
   },
   "source": [
    "-----------------------------------------------------\n",
    "Telling Python the path to the testing data.<br>"
   ]
  },
  {
   "cell_type": "code",
   "execution_count": 117,
   "id": "592dddec",
   "metadata": {
    "execution": {
     "iopub.execute_input": "2023-03-07T01:28:34.629822Z",
     "iopub.status.busy": "2023-03-07T01:28:34.629395Z",
     "iopub.status.idle": "2023-03-07T01:28:34.666471Z",
     "shell.execute_reply": "2023-03-07T01:28:34.665258Z"
    },
    "papermill": {
     "duration": 0.04747,
     "end_time": "2023-03-07T01:28:34.669867",
     "exception": false,
     "start_time": "2023-03-07T01:28:34.622397",
     "status": "completed"
    },
    "tags": []
   },
   "outputs": [],
   "source": [
    "# importing the training dataset\n",
    "# path             = \"/kaggle/input/spaceship-titanic/\"\n",
    "path             = \"./\"\n",
    "testing_dataset  = 'test.csv'\n",
    "\n",
    "\n",
    "# importing the testing dataset\n",
    "titanic_test = pd.read_csv(filepath_or_buffer = path + testing_dataset)\n",
    "\n",
    "\n",
    "# checking basic info about the dataset\n",
    "# titanic_test.info(verbose = True)   # commented out"
   ]
  },
  {
   "cell_type": "code",
   "execution_count": 118,
   "id": "9c142144",
   "metadata": {},
   "outputs": [],
   "source": [
    "# seeing the first 5 rows\n",
    "# titanic_test.head(n=5)   # commented out"
   ]
  },
  {
   "cell_type": "markdown",
   "id": "1a4d6a14",
   "metadata": {
    "papermill": {
     "duration": 0.005803,
     "end_time": "2023-03-07T01:28:34.681731",
     "exception": false,
     "start_time": "2023-03-07T01:28:34.675928",
     "status": "completed"
    },
    "tags": []
   },
   "source": [
    "-----------------------------------------------------\n",
    "Joining the datasets together before feature engineering"
   ]
  },
  {
   "cell_type": "code",
   "execution_count": 119,
   "id": "2838fc55",
   "metadata": {
    "execution": {
     "iopub.execute_input": "2023-03-07T01:28:34.695215Z",
     "iopub.status.busy": "2023-03-07T01:28:34.694758Z",
     "iopub.status.idle": "2023-03-07T01:28:34.708985Z",
     "shell.execute_reply": "2023-03-07T01:28:34.707971Z"
    },
    "papermill": {
     "duration": 0.02397,
     "end_time": "2023-03-07T01:28:34.711526",
     "exception": false,
     "start_time": "2023-03-07T01:28:34.687556",
     "status": "completed"
    },
    "tags": []
   },
   "outputs": [
    {
     "name": "stderr",
     "output_type": "stream",
     "text": [
      "/var/folders/z8/y6yrs09j18v79ttwrs__x4xc0000gn/T/ipykernel_14949/2657875000.py:6: FutureWarning: The frame.append method is deprecated and will be removed from pandas in a future version. Use pandas.concat instead.\n",
      "  titanic_df = titanic_train.append(other = titanic_test)\n"
     ]
    },
    {
     "data": {
      "text/html": [
       "<div>\n",
       "<style scoped>\n",
       "    .dataframe tbody tr th:only-of-type {\n",
       "        vertical-align: middle;\n",
       "    }\n",
       "\n",
       "    .dataframe tbody tr th {\n",
       "        vertical-align: top;\n",
       "    }\n",
       "\n",
       "    .dataframe thead th {\n",
       "        text-align: right;\n",
       "    }\n",
       "</style>\n",
       "<table border=\"1\" class=\"dataframe\">\n",
       "  <thead>\n",
       "    <tr style=\"text-align: right;\">\n",
       "      <th></th>\n",
       "      <th>index</th>\n",
       "      <th>PassengerId</th>\n",
       "      <th>HomePlanet</th>\n",
       "      <th>CryoSleep</th>\n",
       "      <th>Cabin</th>\n",
       "      <th>Destination</th>\n",
       "      <th>Age</th>\n",
       "      <th>VIP</th>\n",
       "      <th>RoomService</th>\n",
       "      <th>FoodCourt</th>\n",
       "      <th>ShoppingMall</th>\n",
       "      <th>Spa</th>\n",
       "      <th>VRDeck</th>\n",
       "      <th>Name</th>\n",
       "      <th>Transported</th>\n",
       "      <th>set</th>\n",
       "    </tr>\n",
       "  </thead>\n",
       "  <tbody>\n",
       "    <tr>\n",
       "      <th>0</th>\n",
       "      <td>0</td>\n",
       "      <td>0001_01</td>\n",
       "      <td>Europa</td>\n",
       "      <td>False</td>\n",
       "      <td>B/0/P</td>\n",
       "      <td>TRAPPIST-1e</td>\n",
       "      <td>39.0</td>\n",
       "      <td>False</td>\n",
       "      <td>0.0</td>\n",
       "      <td>0.0</td>\n",
       "      <td>0.0</td>\n",
       "      <td>0.0</td>\n",
       "      <td>0.0</td>\n",
       "      <td>Maham Ofracculy</td>\n",
       "      <td>False</td>\n",
       "      <td>Training</td>\n",
       "    </tr>\n",
       "    <tr>\n",
       "      <th>1</th>\n",
       "      <td>1</td>\n",
       "      <td>0002_01</td>\n",
       "      <td>Earth</td>\n",
       "      <td>False</td>\n",
       "      <td>F/0/S</td>\n",
       "      <td>TRAPPIST-1e</td>\n",
       "      <td>24.0</td>\n",
       "      <td>False</td>\n",
       "      <td>109.0</td>\n",
       "      <td>9.0</td>\n",
       "      <td>25.0</td>\n",
       "      <td>549.0</td>\n",
       "      <td>44.0</td>\n",
       "      <td>Juanna Vines</td>\n",
       "      <td>True</td>\n",
       "      <td>Training</td>\n",
       "    </tr>\n",
       "    <tr>\n",
       "      <th>2</th>\n",
       "      <td>2</td>\n",
       "      <td>0003_01</td>\n",
       "      <td>Europa</td>\n",
       "      <td>False</td>\n",
       "      <td>A/0/S</td>\n",
       "      <td>TRAPPIST-1e</td>\n",
       "      <td>58.0</td>\n",
       "      <td>True</td>\n",
       "      <td>43.0</td>\n",
       "      <td>3576.0</td>\n",
       "      <td>0.0</td>\n",
       "      <td>6715.0</td>\n",
       "      <td>49.0</td>\n",
       "      <td>Altark Susent</td>\n",
       "      <td>False</td>\n",
       "      <td>Training</td>\n",
       "    </tr>\n",
       "    <tr>\n",
       "      <th>3</th>\n",
       "      <td>3</td>\n",
       "      <td>0003_02</td>\n",
       "      <td>Europa</td>\n",
       "      <td>False</td>\n",
       "      <td>A/0/S</td>\n",
       "      <td>TRAPPIST-1e</td>\n",
       "      <td>33.0</td>\n",
       "      <td>False</td>\n",
       "      <td>0.0</td>\n",
       "      <td>1283.0</td>\n",
       "      <td>371.0</td>\n",
       "      <td>3329.0</td>\n",
       "      <td>193.0</td>\n",
       "      <td>Solam Susent</td>\n",
       "      <td>False</td>\n",
       "      <td>Training</td>\n",
       "    </tr>\n",
       "    <tr>\n",
       "      <th>4</th>\n",
       "      <td>4</td>\n",
       "      <td>0004_01</td>\n",
       "      <td>Earth</td>\n",
       "      <td>False</td>\n",
       "      <td>F/1/S</td>\n",
       "      <td>TRAPPIST-1e</td>\n",
       "      <td>16.0</td>\n",
       "      <td>False</td>\n",
       "      <td>303.0</td>\n",
       "      <td>70.0</td>\n",
       "      <td>151.0</td>\n",
       "      <td>565.0</td>\n",
       "      <td>2.0</td>\n",
       "      <td>Willy Santantines</td>\n",
       "      <td>True</td>\n",
       "      <td>Training</td>\n",
       "    </tr>\n",
       "  </tbody>\n",
       "</table>\n",
       "</div>"
      ],
      "text/plain": [
       "   index PassengerId HomePlanet CryoSleep  Cabin  Destination   Age    VIP  RoomService  FoodCourt  ShoppingMall     Spa  VRDeck               Name Transported       set\n",
       "0      0     0001_01     Europa     False  B/0/P  TRAPPIST-1e  39.0  False          0.0        0.0           0.0     0.0     0.0    Maham Ofracculy       False  Training\n",
       "1      1     0002_01      Earth     False  F/0/S  TRAPPIST-1e  24.0  False        109.0        9.0          25.0   549.0    44.0       Juanna Vines        True  Training\n",
       "2      2     0003_01     Europa     False  A/0/S  TRAPPIST-1e  58.0   True         43.0     3576.0           0.0  6715.0    49.0      Altark Susent       False  Training\n",
       "3      3     0003_02     Europa     False  A/0/S  TRAPPIST-1e  33.0  False          0.0     1283.0         371.0  3329.0   193.0       Solam Susent       False  Training\n",
       "4      4     0004_01      Earth     False  F/1/S  TRAPPIST-1e  16.0  False        303.0       70.0         151.0   565.0     2.0  Willy Santantines        True  Training"
      ]
     },
     "execution_count": 119,
     "metadata": {},
     "output_type": "execute_result"
    }
   ],
   "source": [
    "titanic_train['set'] = 'Training'\n",
    "titanic_test ['set'] = 'Testing'\n",
    "\n",
    "\n",
    "# concatenating both datasets together for mv and feature engineering\n",
    "titanic_df = titanic_train.append(other = titanic_test)\n",
    "\n",
    "\n",
    "# resetting index to avoid problems later in the code\n",
    "titanic_df.reset_index(drop = False,\n",
    "                       inplace = True)\n",
    "\n",
    "\n",
    "# displaying\n",
    "titanic_df.head(5)"
   ]
  },
  {
   "cell_type": "code",
   "execution_count": 120,
   "id": "f553fbf5",
   "metadata": {},
   "outputs": [
    {
     "name": "stdout",
     "output_type": "stream",
     "text": [
      "<class 'pandas.core.frame.DataFrame'>\n",
      "RangeIndex: 12970 entries, 0 to 12969\n",
      "Data columns (total 16 columns):\n",
      " #   Column        Non-Null Count  Dtype  \n",
      "---  ------        --------------  -----  \n",
      " 0   index         12970 non-null  int64  \n",
      " 1   PassengerId   12970 non-null  object \n",
      " 2   HomePlanet    12682 non-null  object \n",
      " 3   CryoSleep     12660 non-null  object \n",
      " 4   Cabin         12671 non-null  object \n",
      " 5   Destination   12696 non-null  object \n",
      " 6   Age           12700 non-null  float64\n",
      " 7   VIP           12674 non-null  object \n",
      " 8   RoomService   12707 non-null  float64\n",
      " 9   FoodCourt     12681 non-null  float64\n",
      " 10  ShoppingMall  12664 non-null  float64\n",
      " 11  Spa           12686 non-null  float64\n",
      " 12  VRDeck        12702 non-null  float64\n",
      " 13  Name          12676 non-null  object \n",
      " 14  Transported   8693 non-null   object \n",
      " 15  set           12970 non-null  object \n",
      "dtypes: float64(6), int64(1), object(9)\n",
      "memory usage: 1.6+ MB\n"
     ]
    }
   ],
   "source": [
    "# checking basic info about the dataset\n",
    "titanic_df.info(verbose = True)"
   ]
  },
  {
   "cell_type": "markdown",
   "id": "21e16b16",
   "metadata": {},
   "source": [
    "<hr style=\"height:.9px;border:none;color:#333;background-color:#333;\" />\n",
    "\n",
    "## EDA & Data Cleaning"
   ]
  },
  {
   "cell_type": "markdown",
   "id": "7a5af9bd",
   "metadata": {},
   "source": [
    "Check and quantify missing values.<br>"
   ]
  },
  {
   "cell_type": "code",
   "execution_count": 121,
   "id": "42ec9284",
   "metadata": {},
   "outputs": [
    {
     "data": {
      "text/plain": [
       "index              0\n",
       "PassengerId        0\n",
       "HomePlanet       288\n",
       "CryoSleep        310\n",
       "Cabin            299\n",
       "Destination      274\n",
       "Age              270\n",
       "VIP              296\n",
       "RoomService      263\n",
       "FoodCourt        289\n",
       "ShoppingMall     306\n",
       "Spa              284\n",
       "VRDeck           268\n",
       "Name             294\n",
       "Transported     4277\n",
       "set                0\n",
       "dtype: int64"
      ]
     },
     "execution_count": 121,
     "metadata": {},
     "output_type": "execute_result"
    }
   ],
   "source": [
    "# checking all the columns which have missing values\n",
    "titanic_df.isnull().sum()"
   ]
  },
  {
   "cell_type": "markdown",
   "id": "8d792c23",
   "metadata": {},
   "source": [
    "---------------------------------------------------------\n",
    "Categorize them into NUMERICAL and CATEGORICAL.<br>"
   ]
  },
  {
   "cell_type": "code",
   "execution_count": 122,
   "id": "f2dac2ed",
   "metadata": {},
   "outputs": [
    {
     "name": "stdout",
     "output_type": "stream",
     "text": [
      "['index', 'Age', 'RoomService', 'FoodCourt', 'ShoppingMall', 'Spa', 'VRDeck']\n",
      "['PassengerId', 'HomePlanet', 'CryoSleep', 'Cabin', 'Destination', 'VIP', 'Name', 'Transported', 'set']\n"
     ]
    }
   ],
   "source": [
    "# check numerical features\n",
    "num_features=titanic_df.describe().columns.tolist()\n",
    "print(num_features)\n",
    "\n",
    "\n",
    "# check categorical features\n",
    "cat_features=[feature for feature in titanic_df.columns if feature not in num_features]\n",
    "print(cat_features)"
   ]
  },
  {
   "cell_type": "markdown",
   "id": "0a76436b",
   "metadata": {},
   "source": [
    "-------------------------------------------------------\n",
    "Handle missing values in numerical features.<br>"
   ]
  },
  {
   "cell_type": "code",
   "execution_count": 123,
   "id": "fe8fe09d",
   "metadata": {},
   "outputs": [],
   "source": [
    "# replace missing numerical values with median of each feature\n",
    "for feature in num_features:\n",
    "    value=titanic_df[feature].median()\n",
    "    titanic_df[feature].fillna(value=value,inplace=True)\n",
    "\n",
    "\n",
    "# check the # of missing values\n",
    "# titanic_df.isnull().sum()  # commented out"
   ]
  },
  {
   "cell_type": "code",
   "execution_count": 124,
   "id": "26628d95",
   "metadata": {},
   "outputs": [
    {
     "data": {
      "text/plain": [
       "index           0\n",
       "PassengerId     0\n",
       "HomePlanet      0\n",
       "CryoSleep       0\n",
       "Cabin           0\n",
       "Destination     0\n",
       "Age             0\n",
       "VIP             0\n",
       "RoomService     0\n",
       "FoodCourt       0\n",
       "ShoppingMall    0\n",
       "Spa             0\n",
       "VRDeck          0\n",
       "Name            0\n",
       "Transported     0\n",
       "set             0\n",
       "dtype: int64"
      ]
     },
     "execution_count": 124,
     "metadata": {},
     "output_type": "execute_result"
    }
   ],
   "source": [
    "# replace missing categorical values with median of each feature\n",
    "for feature in cat_features:\n",
    "    value=titanic_df[feature].mode()[0]  # use [0] because we can have multimodal data\n",
    "    titanic_df[feature].fillna(value=value,inplace=True)\n",
    "\n",
    "    \n",
    "# check the # of missing values\n",
    "titanic_df.isnull().sum()"
   ]
  },
  {
   "cell_type": "markdown",
   "id": "a644c227",
   "metadata": {},
   "source": [
    "- All the columns are filled no missing values properly."
   ]
  },
  {
   "cell_type": "markdown",
   "id": "2a3023fa",
   "metadata": {},
   "source": [
    "-----------------------------------\n",
    "Describe the statistics"
   ]
  },
  {
   "cell_type": "code",
   "execution_count": 125,
   "id": "067b61d2",
   "metadata": {},
   "outputs": [
    {
     "data": {
      "text/html": [
       "<div>\n",
       "<style scoped>\n",
       "    .dataframe tbody tr th:only-of-type {\n",
       "        vertical-align: middle;\n",
       "    }\n",
       "\n",
       "    .dataframe tbody tr th {\n",
       "        vertical-align: top;\n",
       "    }\n",
       "\n",
       "    .dataframe thead th {\n",
       "        text-align: right;\n",
       "    }\n",
       "</style>\n",
       "<table border=\"1\" class=\"dataframe\">\n",
       "  <thead>\n",
       "    <tr style=\"text-align: right;\">\n",
       "      <th></th>\n",
       "      <th>index</th>\n",
       "      <th>Age</th>\n",
       "      <th>RoomService</th>\n",
       "      <th>FoodCourt</th>\n",
       "      <th>ShoppingMall</th>\n",
       "      <th>Spa</th>\n",
       "      <th>VRDeck</th>\n",
       "    </tr>\n",
       "  </thead>\n",
       "  <tbody>\n",
       "    <tr>\n",
       "      <th>count</th>\n",
       "      <td>12970.000000</td>\n",
       "      <td>12970.000000</td>\n",
       "      <td>12970.000000</td>\n",
       "      <td>12970.000000</td>\n",
       "      <td>12970.000000</td>\n",
       "      <td>12970.000000</td>\n",
       "      <td>12970.000000</td>\n",
       "    </tr>\n",
       "    <tr>\n",
       "      <th>mean</th>\n",
       "      <td>3617.887741</td>\n",
       "      <td>28.735081</td>\n",
       "      <td>218.378026</td>\n",
       "      <td>441.890979</td>\n",
       "      <td>170.779491</td>\n",
       "      <td>301.722282</td>\n",
       "      <td>300.450270</td>\n",
       "    </tr>\n",
       "    <tr>\n",
       "      <th>std</th>\n",
       "      <td>2408.607419</td>\n",
       "      <td>14.238958</td>\n",
       "      <td>641.766201</td>\n",
       "      <td>1568.038076</td>\n",
       "      <td>584.153630</td>\n",
       "      <td>1118.746785</td>\n",
       "      <td>1168.655639</td>\n",
       "    </tr>\n",
       "    <tr>\n",
       "      <th>min</th>\n",
       "      <td>0.000000</td>\n",
       "      <td>0.000000</td>\n",
       "      <td>0.000000</td>\n",
       "      <td>0.000000</td>\n",
       "      <td>0.000000</td>\n",
       "      <td>0.000000</td>\n",
       "      <td>0.000000</td>\n",
       "    </tr>\n",
       "    <tr>\n",
       "      <th>25%</th>\n",
       "      <td>1621.000000</td>\n",
       "      <td>20.000000</td>\n",
       "      <td>0.000000</td>\n",
       "      <td>0.000000</td>\n",
       "      <td>0.000000</td>\n",
       "      <td>0.000000</td>\n",
       "      <td>0.000000</td>\n",
       "    </tr>\n",
       "    <tr>\n",
       "      <th>50%</th>\n",
       "      <td>3242.000000</td>\n",
       "      <td>27.000000</td>\n",
       "      <td>0.000000</td>\n",
       "      <td>0.000000</td>\n",
       "      <td>0.000000</td>\n",
       "      <td>0.000000</td>\n",
       "      <td>0.000000</td>\n",
       "    </tr>\n",
       "    <tr>\n",
       "      <th>75%</th>\n",
       "      <td>5449.750000</td>\n",
       "      <td>37.000000</td>\n",
       "      <td>42.750000</td>\n",
       "      <td>62.750000</td>\n",
       "      <td>23.000000</td>\n",
       "      <td>50.000000</td>\n",
       "      <td>36.000000</td>\n",
       "    </tr>\n",
       "    <tr>\n",
       "      <th>max</th>\n",
       "      <td>8692.000000</td>\n",
       "      <td>79.000000</td>\n",
       "      <td>14327.000000</td>\n",
       "      <td>29813.000000</td>\n",
       "      <td>23492.000000</td>\n",
       "      <td>22408.000000</td>\n",
       "      <td>24133.000000</td>\n",
       "    </tr>\n",
       "  </tbody>\n",
       "</table>\n",
       "</div>"
      ],
      "text/plain": [
       "              index           Age   RoomService     FoodCourt  ShoppingMall           Spa        VRDeck\n",
       "count  12970.000000  12970.000000  12970.000000  12970.000000  12970.000000  12970.000000  12970.000000\n",
       "mean    3617.887741     28.735081    218.378026    441.890979    170.779491    301.722282    300.450270\n",
       "std     2408.607419     14.238958    641.766201   1568.038076    584.153630   1118.746785   1168.655639\n",
       "min        0.000000      0.000000      0.000000      0.000000      0.000000      0.000000      0.000000\n",
       "25%     1621.000000     20.000000      0.000000      0.000000      0.000000      0.000000      0.000000\n",
       "50%     3242.000000     27.000000      0.000000      0.000000      0.000000      0.000000      0.000000\n",
       "75%     5449.750000     37.000000     42.750000     62.750000     23.000000     50.000000     36.000000\n",
       "max     8692.000000     79.000000  14327.000000  29813.000000  23492.000000  22408.000000  24133.000000"
      ]
     },
     "execution_count": 125,
     "metadata": {},
     "output_type": "execute_result"
    }
   ],
   "source": [
    "# comprehending the description of dataset\n",
    "titanic_df.describe()"
   ]
  },
  {
   "cell_type": "markdown",
   "id": "8b6d88d5",
   "metadata": {},
   "source": [
    "-------------------------------------------------------\n",
    "**Dealing with Outliers**<br>\n",
    "\n",
    "Based on our initial review of the data set, we have identified columns with outliers. These are the Room Service column, Food Court column, Shopping Mall column, Spa column, and VRdeck column. As you can see from the results of the visualization below, we have outliers with values above a certain number considering that the overall number of values is 12970. Therefore, an upper limit was set for each column and the outliers were handled by aligning the values that exceeded that limit to the upper limit. To analyze all passengers, we did not delete any rows with outliers. "
   ]
  },
  {
   "cell_type": "code",
   "execution_count": 126,
   "id": "eeaa1c4b",
   "metadata": {},
   "outputs": [
    {
     "data": {
      "image/png": "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\n",
      "text/plain": [
       "<Figure size 1500x700 with 6 Axes>"
      ]
     },
     "metadata": {},
     "output_type": "display_data"
    }
   ],
   "source": [
    "# Looking for outliers\n",
    "fig, axes = plt.subplots(2, 3, sharey=True, figsize=(15, 7))\n",
    "titanic_df.plot.scatter(x='RoomService', y='Age', ax=axes[0, 0])\n",
    "titanic_df.plot.scatter(x='FoodCourt', y='Age', ax=axes[0, 1])\n",
    "titanic_df.plot.scatter(x='ShoppingMall', y='Age', ax=axes[0, 2])\n",
    "titanic_df.plot.scatter(x='Spa', y='Age', ax=axes[1, 0])\n",
    "titanic_df.plot.scatter(x='VRDeck', y='Age', ax=axes[1, 1])\n",
    "plt.show()"
   ]
  },
  {
   "cell_type": "markdown",
   "id": "c76efab7",
   "metadata": {},
   "source": [
    "**<u>Data Visualization 1</u>**\n",
    "\n",
    "- Analysis and Insights (Outliers) <br>\n",
    "Those who have spent more than 10,000 dollars on these activities tend to be young adults in their 20s to 40s. Common sense suggests that a single person would not spend more than 30,000 dollars at a food court or 20,000 dollars on a VR deck. In other words, it is reasonable to assume that they gather and move in groups and one of them paid the fee as a representative of the group. Therefore, the relatively low percentage of young people in their 20s who were transported suggests that group behavior at the time of the accident and the location where they were gathered may have led to avoiding the transporting. Based on this fact, it may be possible to decrease the transport rate at the time of the accident by reinforcing facilities and transport protection for places (like guest rooms) other than where young adults were gathered at the time of the accident or where they were likely to be acting in groups."
   ]
  },
  {
   "cell_type": "code",
   "execution_count": 127,
   "id": "58ebcb15",
   "metadata": {
    "code_folding": []
   },
   "outputs": [],
   "source": [
    "# Cap RoomService at 5000\n",
    "titanic_df.loc[titanic_df.RoomService.gt(5000), 'RoomService'] = 5000\n",
    "\n",
    "\n",
    "# Cap FoodCourt at 12500\n",
    "titanic_df.loc[titanic_df.FoodCourt.gt(12500), 'FoodCourt'] = 12500\n",
    "\n",
    "\n",
    "# Cap ShoppingMall at 5000\n",
    "titanic_df.loc[titanic_df.ShoppingMall.gt(5000), 'ShoppingMall'] = 5000\n",
    "\n",
    "\n",
    "# Cap Spa at 7500\n",
    "titanic_df.loc[titanic_df.Spa.gt(7500), 'Spa'] = 7500\n",
    "\n",
    "\n",
    "# Cap VRDeck at 10000\n",
    "titanic_df.loc[titanic_df.VRDeck.gt(10000), 'VRDeck'] = 10000"
   ]
  },
  {
   "cell_type": "markdown",
   "id": "156950e8",
   "metadata": {},
   "source": [
    "------------------------------\n",
    "Age distribution analysis"
   ]
  },
  {
   "cell_type": "code",
   "execution_count": 128,
   "id": "88047819",
   "metadata": {},
   "outputs": [],
   "source": [
    "# Update age group feature\n",
    "titanic_df.loc[titanic_df['Age']<=18,'Age_group']='Age_0-18'\n",
    "titanic_df.loc[(titanic_df['Age']>=19) & (titanic_df['Age']<=29),'Age_group']='Age_19-29'\n",
    "titanic_df.loc[(titanic_df['Age']>=30) & (titanic_df['Age']<=39),'Age_group']='Age_30-39'\n",
    "titanic_df.loc[titanic_df['Age']>40,'Age_group']='Age_40+'"
   ]
  },
  {
   "cell_type": "code",
   "execution_count": 129,
   "id": "b795ca2b",
   "metadata": {},
   "outputs": [
    {
     "data": {
      "text/plain": [
       "Text(0.5, 0, 'Age (years)')"
      ]
     },
     "execution_count": 129,
     "metadata": {},
     "output_type": "execute_result"
    },
    {
     "data": {
      "image/png": "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\n",
      "text/plain": [
       "<Figure size 800x300 with 1 Axes>"
      ]
     },
     "metadata": {},
     "output_type": "display_data"
    }
   ],
   "source": [
    "# Figure size\n",
    "plt.figure(figsize=(8,3))\n",
    "\n",
    "\n",
    "# Histogram\n",
    "sns.histplot(data=titanic_train, x='Age', hue='Transported', binwidth=1, kde=True)\n",
    "\n",
    "\n",
    "# Aesthetics\n",
    "plt.title('Age distribution')\n",
    "plt.xlabel('Age (years)')"
   ]
  },
  {
   "cell_type": "markdown",
   "id": "a7948e1a",
   "metadata": {},
   "source": [
    "**<u>Data Visualization 2</u>**\n",
    "\n",
    "- Analysis and Insights (Age)<br>\n",
    "The graph shows that a high percentage of transported youths are between the ages of 0 and 20. On the other hand, we can also see that the percentage of transported youth between the ages of 20 and 40, who we could assume are the parents of those youth, is relatively low. This fact points to the possibility that whether or not a passenger was transported at the time of the accident depended on the physical characteristics of the passenger and his or her ability to avoid the accident. Common sense dictates that the baby should be with its parents. And in the event of some accident, parents are expected to instinctively think to protect their children. On the other hand, the fact that the rate of transport for 0-year-old babies is outstandingly high suggests two possibilities.\n",
    "The first is that the children and their parents were separated at the time of the accident, for example kindergarten. The second is that the transport accident was a split-second event, the kind of accident that requires a person to avoid the transport by themselves.\n",
    "This analysis would require measures to strengthen facilities and avoid transports in places where children, including babies, were congregating.Moreover, the space travel companies will also need to be alerted to the increased probability of children being transported by accidents and take steps such as adding age restrictions to travel regulations."
   ]
  },
  {
   "cell_type": "markdown",
   "id": "89bb84af",
   "metadata": {},
   "source": [
    "<hr style=\"height:.9px;border:none;color:#333;background-color:#333;\" />\n",
    "\n",
    "## Feature Engineering & Data-Type Transformation"
   ]
  },
  {
   "cell_type": "markdown",
   "id": "650bdf7c",
   "metadata": {},
   "source": [
    "--------------------------------\n",
    "**PassengerID**"
   ]
  },
  {
   "cell_type": "code",
   "execution_count": 130,
   "id": "9bdec269",
   "metadata": {},
   "outputs": [],
   "source": [
    "# Make a passenger ID column\n",
    "titanic_df['Passenger_ID'] = titanic_df['PassengerId'].str[0:4]\n",
    "\n",
    "\n",
    "# transform the data type of Group Number\n",
    "titanic_df['PassengerID'] = titanic_df['Passenger_ID'].astype(float)\n",
    "\n",
    "\n",
    "# drop the unused column \n",
    "titanic_df = titanic_df.drop('Passenger_ID', axis = 1)\n",
    "\n",
    "\n",
    "# check\n",
    "# titanic_df.head(n=5)   # commented out"
   ]
  },
  {
   "cell_type": "markdown",
   "id": "c6df8fe1",
   "metadata": {},
   "source": [
    "---------------------------------\n",
    "**GroupNumber**"
   ]
  },
  {
   "cell_type": "code",
   "execution_count": 131,
   "id": "f0757b54",
   "metadata": {},
   "outputs": [
    {
     "name": "stdout",
     "output_type": "stream",
     "text": [
      "['1' '2' '3' '4' '5' '6' '7' '8']\n"
     ]
    }
   ],
   "source": [
    "# checking the latest letter of the column\n",
    "titanic_df['group_number'] = titanic_df['PassengerId'].str[-1:]\n",
    "\n",
    "\n",
    "# checking the unique values of the column\n",
    "unique_values_group = titanic_df['group_number'].unique()\n",
    "print(unique_values_group)\n",
    "\n",
    "\n",
    "# checking the latest letter of the column\n",
    "titanic_train['group_number'] = titanic_train['PassengerId'].str[-1:]\n",
    "\n",
    "\n",
    "# transforming the data type of group number\n",
    "titanic_train['group_number2'] = titanic_train['group_number'].astype(float)"
   ]
  },
  {
   "cell_type": "code",
   "execution_count": 132,
   "id": "9e61cb2d",
   "metadata": {},
   "outputs": [
    {
     "data": {
      "image/png": "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\n",
      "text/plain": [
       "<Figure size 640x480 with 1 Axes>"
      ]
     },
     "metadata": {},
     "output_type": "display_data"
    }
   ],
   "source": [
    "# calculate the proportion of true and false values for each group\n",
    "group_props = titanic_train.groupby('group_number2')['Transported'].value_counts(normalize=True).unstack()\n",
    "\n",
    "\n",
    "# create a stacked bar chart\n",
    "ax = group_props.plot(kind='bar', stacked=True)\n",
    "ax.set_xlabel('Group Number')\n",
    "ax.set_ylabel('Proportion')\n",
    "ax.set_title('Proportion of True and False Values by Group Number')\n",
    "\n",
    "\n",
    "# add text labels to the chart showing the proportion of each value\n",
    "for p in ax.containers:\n",
    "    ax.bar_label(p, label_type='edge', labels=[f'{v:.1%}' if v is not None else '' for v in p.datavalues])\n",
    "\n",
    "\n",
    "plt.show()"
   ]
  },
  {
   "cell_type": "markdown",
   "id": "2bc7bddd",
   "metadata": {},
   "source": [
    "**<u>Data Visualization 3</u>**\n",
    "- Analysis and Insights (Group Number)\n",
    "<br>\n",
    "From this graph, we can see that a relatively high percentage of people are transported for Groups 3 and 4. There is also a relatively low percentage of people transported for Groups 1 and 8. This indicates that there is a difference in the percentage of people transported by the group for some reason, and we give a statistical weighting to the group labeling to account for this.\n",
    "<br>\n",
    " -Group 3/4 have relatively high percentage of people are transported, so we reflect this result to 'group_number_int' column as '2' <br>\n",
    " -Group 1/8 have relatively low percentage of people are transported, so we reflect this result to 'group_number_int' column as '0'"
   ]
  },
  {
   "cell_type": "code",
   "execution_count": 133,
   "id": "cb7ec837",
   "metadata": {},
   "outputs": [],
   "source": [
    "# create a new column for HomePlanet\n",
    "titanic_df['group_number_int'] = np.nan\n",
    "for i in range(len(titanic_df)):\n",
    "    if titanic_df.loc[i, 'group_number'] == '1':\n",
    "        titanic_df.loc[i, 'group_number_int'] = 0\n",
    "    elif titanic_df.loc[i, 'group_number'] == '2':\n",
    "        titanic_df.loc[i, 'group_number_int'] = 1\n",
    "    elif titanic_df.loc[i, 'group_number'] == '3':\n",
    "        titanic_df.loc[i, 'group_number_int'] = 2\n",
    "    elif titanic_df.loc[i, 'group_number'] == '4':\n",
    "        titanic_df.loc[i, 'group_number_int'] = 2\n",
    "    elif titanic_df.loc[i, 'group_number'] == '5':\n",
    "        titanic_df.loc[i, 'group_number_int'] = 1\n",
    "    elif titanic_df.loc[i, 'group_number'] == '6':\n",
    "        titanic_df.loc[i, 'group_number_int'] = 1\n",
    "    elif titanic_df.loc[i, 'group_number'] == '7':\n",
    "        titanic_df.loc[i, 'group_number_int'] = 1\n",
    "    elif titanic_df.loc[i, 'group_number'] == '8':\n",
    "        titanic_df.loc[i, 'group_number_int'] = 0\n",
    "\n",
    "        \n",
    "# drop the unused column \n",
    "# titanic_df = titanic_df.drop('group_number', axis = 1)\n",
    "\n",
    "\n",
    "# print the dataframe\n",
    "# titanic_df.head(5)    # commented out"
   ]
  },
  {
   "cell_type": "markdown",
   "id": "caf48371",
   "metadata": {},
   "source": [
    "-----------------------------------\n",
    "**HomePlanet**"
   ]
  },
  {
   "cell_type": "code",
   "execution_count": 134,
   "id": "3b2b0ac5",
   "metadata": {},
   "outputs": [
    {
     "name": "stdout",
     "output_type": "stream",
     "text": [
      "['Europa' 'Earth' 'Mars']\n"
     ]
    }
   ],
   "source": [
    "# checking the unique values of the column\n",
    "unique_values_group = titanic_df['HomePlanet'].unique()\n",
    "print(unique_values_group)"
   ]
  },
  {
   "cell_type": "code",
   "execution_count": 135,
   "id": "2487986e",
   "metadata": {},
   "outputs": [
    {
     "name": "stdout",
     "output_type": "stream",
     "text": [
      "Transported  False  True\n",
      "HomePlanet              \n",
      "Earth         0.38  0.62\n",
      "Europa        0.23  0.77\n",
      "Mars          0.31  0.69\n"
     ]
    }
   ],
   "source": [
    "# calculate the proportion of true and false values for each group\n",
    "homeplanet_props = titanic_df.groupby('HomePlanet')['Transported'].value_counts(normalize=True).unstack().round(2)\n",
    "\n",
    "# show as a chart\n",
    "print(homeplanet_props)"
   ]
  },
  {
   "cell_type": "code",
   "execution_count": 136,
   "id": "5005a44c",
   "metadata": {},
   "outputs": [],
   "source": [
    "# create a new column for HomePlanet\n",
    "titanic_df['HomePlanet_int'] = np.nan\n",
    "for i in range(len(titanic_df)):\n",
    "    if titanic_df.loc[i, 'HomePlanet'] == 'Europa':\n",
    "        titanic_df.loc[i, 'HomePlanet_int'] = 3\n",
    "    elif titanic_df.loc[i, 'HomePlanet'] == 'Earth':\n",
    "        titanic_df.loc[i, 'HomePlanet_int'] = 1\n",
    "    elif titanic_df.loc[i, 'HomePlanet'] == 'Mars':\n",
    "        titanic_df.loc[i, 'HomePlanet_int'] = 2\n",
    "\n",
    "\n",
    "# drop the unused column \n",
    "# titanic_df = titanic_df.drop('HomePlanet', axis = 1)\n",
    "\n",
    "\n",
    "# print the dataframe\n",
    "# titanic_df.head(5)   # commented out"
   ]
  },
  {
   "cell_type": "markdown",
   "id": "5320fe95",
   "metadata": {},
   "source": [
    "----------------------------------------------\n",
    "**Cabin**"
   ]
  },
  {
   "cell_type": "code",
   "execution_count": 137,
   "id": "e9e88454",
   "metadata": {},
   "outputs": [
    {
     "name": "stdout",
     "output_type": "stream",
     "text": [
      "['B/0/P' 'F/0/S' 'A/0/S' ... 'D/296/P' 'D/297/P' 'G/1498/S']\n"
     ]
    },
    {
     "data": {
      "text/plain": [
       "12970"
      ]
     },
     "execution_count": 137,
     "metadata": {},
     "output_type": "execute_result"
    }
   ],
   "source": [
    "# checking the unique values of the column\n",
    "unique_values_group = titanic_df['Cabin'].unique()\n",
    "print(unique_values_group)\n",
    "\n",
    "\n",
    "# counting the numbers of values\n",
    "titanic_df['Cabin'].count()"
   ]
  },
  {
   "cell_type": "code",
   "execution_count": 138,
   "id": "b9068dd6",
   "metadata": {},
   "outputs": [],
   "source": [
    "# split values based on '/'\n",
    "titanic_df[['Cabin_deck', 'Cabin_num', 'Cabin_side']] = titanic_df['Cabin'].str.split('/', expand=True)"
   ]
  },
  {
   "cell_type": "markdown",
   "id": "1da2810e",
   "metadata": {},
   "source": [
    "-----------------------------\n",
    "**CryopSleep**"
   ]
  },
  {
   "cell_type": "code",
   "execution_count": 139,
   "id": "f8c629fb",
   "metadata": {},
   "outputs": [
    {
     "name": "stdout",
     "output_type": "stream",
     "text": [
      "[False  True]\n"
     ]
    }
   ],
   "source": [
    "# check the unique value of the column\n",
    "unique_values_group = titanic_df['CryoSleep'].unique()\n",
    "print(unique_values_group)"
   ]
  },
  {
   "cell_type": "code",
   "execution_count": 140,
   "id": "d9cc0ccb",
   "metadata": {},
   "outputs": [],
   "source": [
    "# Convert the boolean column to integer (1 for True, 0 for False)\n",
    "titanic_df['CryoSleep'] = titanic_df['CryoSleep'].astype(float)\n",
    "\n",
    "\n",
    "# Create dummy variables from the 'has_dog' column\n",
    "#dummies = pd.get_dummies(titanic_df['CryoSleep'], prefix='CryoSleep')\n",
    "\n",
    "\n",
    "# Concatenate the original dataframe with the dummy variables\n",
    "#titanic_df = pd.concat([titanic_df, dummies], axis=1)\n",
    "\n",
    "\n",
    "# drop the unused column \n",
    "#titanic_df = titanic_df.drop('CryoSleep', axis = 1)\n",
    "\n",
    "\n",
    "# check\n",
    "#titanic_df.head(n=5)"
   ]
  },
  {
   "cell_type": "code",
   "execution_count": 141,
   "id": "d1ce8a07",
   "metadata": {},
   "outputs": [
    {
     "name": "stdout",
     "output_type": "stream",
     "text": [
      "CryoSleep      0.0     1.0\n",
      "Cabin_deck                \n",
      "A            252.0   102.0\n",
      "B            534.0   607.0\n",
      "C            640.0   462.0\n",
      "D            551.0   169.0\n",
      "E           1071.0   252.0\n",
      "F           3387.0   852.0\n",
      "G           1943.0  2137.0\n",
      "T             11.0     0.0\n"
     ]
    }
   ],
   "source": [
    "# Joint distribution of CabinDeck and CryoSleep\n",
    "Cabin_deck_CryoSleep=titanic_df.groupby(['Cabin_deck', 'CryoSleep'])['HomePlanet'].size().unstack().fillna(0)\n",
    "\n",
    "print(Cabin_deck_CryoSleep)"
   ]
  },
  {
   "cell_type": "code",
   "execution_count": 142,
   "id": "72e7ed35",
   "metadata": {},
   "outputs": [
    {
     "name": "stdout",
     "output_type": "stream",
     "text": [
      "CryoSleep   0.0   1.0\n",
      "Age_group            \n",
      "Age_0-18   1516  1244\n",
      "Age_19-29  3350  1565\n",
      "Age_30-39  1680   858\n",
      "Age_40+    1717   844\n"
     ]
    }
   ],
   "source": [
    "# Joint distribution of CabinDeck and HomePlanet\n",
    "Age_group_CryoSleep=titanic_df.groupby(['Age_group', 'CryoSleep'])['HomePlanet'].size().unstack().fillna(0)\n",
    "\n",
    "print(Age_group_CryoSleep)"
   ]
  },
  {
   "cell_type": "code",
   "execution_count": 143,
   "id": "183b3f87",
   "metadata": {},
   "outputs": [
    {
     "name": "stdout",
     "output_type": "stream",
     "text": [
      "CryoSleep    0.0   1.0\n",
      "HomePlanet            \n",
      "Earth       4980  2173\n",
      "Europa      1759  1374\n",
      "Mars        1650  1034\n"
     ]
    }
   ],
   "source": [
    "# Joint distribution of CabinDeck and HomePlanet\n",
    "HomePlanet_CryoSleep=titanic_df.groupby(['HomePlanet', 'CryoSleep'])['HomePlanet'].size().unstack().fillna(0)\n",
    "\n",
    "print(HomePlanet_CryoSleep)"
   ]
  },
  {
   "cell_type": "code",
   "execution_count": 144,
   "id": "3089b4a4",
   "metadata": {},
   "outputs": [
    {
     "data": {
      "image/png": "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\n",
      "text/plain": [
       "<Figure size 640x480 with 1 Axes>"
      ]
     },
     "metadata": {},
     "output_type": "display_data"
    }
   ],
   "source": [
    "# calculate the proportion of true and false values for each group\n",
    "group_props = titanic_train.groupby('CryoSleep')['Transported'].value_counts(normalize=True).unstack()\n",
    "\n",
    "\n",
    "# create a stacked bar chart\n",
    "ax = group_props.plot(kind='bar', stacked=True)\n",
    "ax.set_xlabel('CryoSleep')\n",
    "ax.set_ylabel('Proportion')\n",
    "ax.set_title('Proportion of True and False Values by Group Number')\n",
    "\n",
    "\n",
    "# add text labels to the chart showing the proportion of each value\n",
    "for p in ax.containers:\n",
    "    ax.bar_label(p, label_type='edge', labels=[f'{v:.1%}' if v is not None else '' for v in p.datavalues])\n",
    "\n",
    "\n",
    "plt.show()"
   ]
  },
  {
   "cell_type": "markdown",
   "id": "130601d1",
   "metadata": {},
   "source": [
    "**<u>Data Visualization 4</u>**\n",
    "\n",
    "- Analysis and Insights (Cryo Sleep)<br>\n",
    "As can be seen from the bar graph above, the transport rate for passengers who were in Cryo Sleep is noticeably higher. While previous analyses have shown that transport rates tend to vary with Age, CabinDeck and HomePlant, the relationship between Cryo Sleep and each of the characteristics shown above (Cabin_deck_CryoSleep / Age_group_CryoSleep / HomePlanet_CryoSleep) indicates that they do not affect the relationship between Cryo Sleep and transport rates. As a result, the analysis so far points to a risk that the use of Cryo Sleep leads to a relatively high probability of accidental transports.\n",
    "Space travel companies should be alerted by this fact that Cryo Sleep, which may be comfortable in physically demanding space travel, increases the risk of transport to alternate dimension by causing the loss of the opportunity for hazard avoidance behavior in the event of an accident.\n",
    "In addition, considering the hazards of Cryo Sleep, the company should consider conducting Cryo Sleep in locations where transport to alternate dimension can be best avoided and investing in avoidance equipment."
   ]
  },
  {
   "cell_type": "markdown",
   "id": "74df2782",
   "metadata": {},
   "source": [
    "--------------------------------------\n",
    "**Cabin_deck**"
   ]
  },
  {
   "cell_type": "code",
   "execution_count": 145,
   "id": "f08621ad",
   "metadata": {},
   "outputs": [
    {
     "name": "stdout",
     "output_type": "stream",
     "text": [
      "Transported  False  True\n",
      "Cabin_deck              \n",
      "A             0.36  0.64\n",
      "B             0.18  0.82\n",
      "C             0.22  0.78\n",
      "D             0.38  0.62\n",
      "E             0.43  0.57\n",
      "F             0.37  0.63\n",
      "G             0.33  0.67\n",
      "T             0.36  0.64\n"
     ]
    }
   ],
   "source": [
    "# calculate the proportion of true and false values for each group\n",
    "group_props = titanic_df.groupby('Cabin_deck')['Transported'].value_counts(normalize=True).unstack().round(2)\n",
    "\n",
    "print(group_props)"
   ]
  },
  {
   "cell_type": "code",
   "execution_count": 146,
   "id": "6bb46874",
   "metadata": {},
   "outputs": [
    {
     "name": "stdout",
     "output_type": "stream",
     "text": [
      "F    4239\n",
      "G    4080\n",
      "E    1323\n",
      "B    1141\n",
      "C    1102\n",
      "D     720\n",
      "A     354\n",
      "T      11\n",
      "Name: Cabin_deck, dtype: int64\n"
     ]
    }
   ],
   "source": [
    "# Count the number of occurrences of each value in the 'column1' column\n",
    "value_counts = titanic_df['Cabin_deck'].value_counts()\n",
    "\n",
    "# Print the result\n",
    "print(value_counts)"
   ]
  },
  {
   "cell_type": "code",
   "execution_count": 147,
   "id": "ff1d9fb7",
   "metadata": {},
   "outputs": [
    {
     "data": {
      "text/plain": [
       "<AxesSubplot:xlabel='Cabin_deck', ylabel='HomePlanet'>"
      ]
     },
     "execution_count": 147,
     "metadata": {},
     "output_type": "execute_result"
    },
    {
     "data": {
      "image/png": "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\n",
      "text/plain": [
       "<Figure size 1000x400 with 2 Axes>"
      ]
     },
     "metadata": {},
     "output_type": "display_data"
    }
   ],
   "source": [
    "# Joint distribution of CabinDeck and HomePlanet\n",
    "CDHP_gb=titanic_df.groupby(['Cabin_deck', 'HomePlanet'])['HomePlanet'].size().unstack().fillna(0)\n",
    "\n",
    "\n",
    "# Heatmap of missing values\n",
    "plt.figure(figsize=(10,4))\n",
    "sns.heatmap(CDHP_gb.T, annot=True, fmt='g', cmap='coolwarm')"
   ]
  },
  {
   "cell_type": "markdown",
   "id": "4687a0f6",
   "metadata": {},
   "source": [
    "**<u>Data Visualization 5</u>**\n",
    "\n",
    "- Analysis and Insights (The relationship between home planets and cabin_deck)<br>\n",
    "This heatmap shows that decks A, B, C, and T carry mostly passengers from Europe, whereas deck F has no passengers from Europe. Decks D and E also have passengers from multiple regions, while decks F and G have a high percentage of passengers from Earth, especially on deck G, where nearly 1/3 of all passengers are from Earth.<br>\n",
    "Analysis of the percentage of passengers transported by deck shows that a relatively high percentage of passengers are transported on Decks B and C. Considering the high correlation between the variables set Europa = 3, Mars = 2, and Earth = 1 and the target variable, we can see that there is a high percentage of passengers from Europe on Decks B and C people are concentrated on Decks B and C, suggesting that Decks B and C may have been significantly affected by the crash at the time of the accident.\n",
    "Therefore, assuming that there were differences in the ability of different decks to avoid transport accidents, decks B and C urgently need to invest in upgrading their avoid performance to the same level as the other decks. In addition, analysis of the number of passengers per deck shows that nearly 90% of the passengers are concentrated on Decks F, G, B, E, and C. By spreading them out, the damage from the next crash can be minimized."
   ]
  },
  {
   "cell_type": "code",
   "execution_count": 148,
   "id": "99705cca",
   "metadata": {},
   "outputs": [
    {
     "name": "stdout",
     "output_type": "stream",
     "text": [
      "['B' 'F' 'A' 'G' 'E' 'D' 'C' 'T']\n"
     ]
    }
   ],
   "source": [
    "# check the unique value of the column\n",
    "unique_values_group = titanic_df['Cabin_deck'].unique()\n",
    "print(unique_values_group)"
   ]
  },
  {
   "cell_type": "code",
   "execution_count": 149,
   "id": "566ce749",
   "metadata": {},
   "outputs": [],
   "source": [
    "# create a new column for HomePlanet\n",
    "titanic_df['Cabin_deck_int'] = np.nan\n",
    "for i in range(len(titanic_df)):\n",
    "    if   titanic_df.loc[i, 'Cabin_deck'] == 'A':\n",
    "        titanic_df.loc[i, 'Cabin_deck_int'] = 2\n",
    "    elif titanic_df.loc[i, 'Cabin_deck'] == 'B':\n",
    "        titanic_df.loc[i, 'Cabin_deck_int'] = 3\n",
    "    elif titanic_df.loc[i, 'Cabin_deck'] == 'C':\n",
    "        titanic_df.loc[i, 'Cabin_deck_int'] = 3\n",
    "    elif titanic_df.loc[i, 'Cabin_deck'] == 'D':\n",
    "        titanic_df.loc[i, 'Cabin_deck_int'] = 1\n",
    "    elif titanic_df.loc[i, 'Cabin_deck'] == 'E':\n",
    "        titanic_df.loc[i, 'Cabin_deck_int'] = 0 \n",
    "    elif titanic_df.loc[i, 'Cabin_deck'] == 'F':\n",
    "        titanic_df.loc[i, 'Cabin_deck_int'] = 1\n",
    "    elif titanic_df.loc[i, 'Cabin_deck'] == 'G':\n",
    "        titanic_df.loc[i, 'Cabin_deck_int'] = 2 \n",
    "    elif titanic_df.loc[i, 'Cabin_deck'] == 'T':\n",
    "        titanic_df.loc[i, 'Cabin_deck_int'] = 0\n",
    "\n",
    "\n",
    "# drop the unused column \n",
    "#titanic_df = titanic_df.drop('Cabin_deck', axis = 1)\n",
    "\n",
    "\n",
    "# print the dataframe\n",
    "# titanic_df.head(5)   # commented out"
   ]
  },
  {
   "cell_type": "markdown",
   "id": "94c495bd",
   "metadata": {},
   "source": [
    "------------------------------------------\n",
    "**Cabin_num**"
   ]
  },
  {
   "cell_type": "code",
   "execution_count": 150,
   "id": "20220847",
   "metadata": {},
   "outputs": [
    {
     "name": "stdout",
     "output_type": "stream",
     "text": [
      "['0' '1' '2' ... '1885' '1887' '1890']\n"
     ]
    }
   ],
   "source": [
    "# check the unique value of the column\n",
    "unique_values_group = titanic_df['Cabin_num'].unique()\n",
    "print(unique_values_group)"
   ]
  },
  {
   "cell_type": "code",
   "execution_count": 151,
   "id": "0396ead7",
   "metadata": {},
   "outputs": [],
   "source": [
    "# transform the data type of Group Number\n",
    "titanic_df['Cabin_num_int'] = titanic_df['Cabin_num'].astype(float)\n",
    "\n",
    "\n",
    "# print the dataframe\n",
    "# titanic_df.head(5)   # commented out"
   ]
  },
  {
   "cell_type": "markdown",
   "id": "a5c87378",
   "metadata": {},
   "source": [
    "-----------------------------------------\n",
    "**Cabin_side**"
   ]
  },
  {
   "cell_type": "code",
   "execution_count": 152,
   "id": "86e4bc12",
   "metadata": {},
   "outputs": [
    {
     "name": "stdout",
     "output_type": "stream",
     "text": [
      "['P' 'S']\n"
     ]
    }
   ],
   "source": [
    "# check the unique value of the column\n",
    "unique_values_group = titanic_df['Cabin_side'].unique()\n",
    "print(unique_values_group)"
   ]
  },
  {
   "cell_type": "code",
   "execution_count": 153,
   "id": "73d0561f",
   "metadata": {},
   "outputs": [],
   "source": [
    "# create a new column for HomePlanet\n",
    "titanic_df['Cabin_side_int'] = np.nan\n",
    "for i in range(len(titanic_df)):\n",
    "    if titanic_df.loc[i, 'Cabin_side'] == 'P':\n",
    "        titanic_df.loc[i, 'Cabin_side_int'] = 0\n",
    "    elif titanic_df.loc[i, 'Cabin_side'] == 'S':\n",
    "        titanic_df.loc[i, 'Cabin_side_int'] = 1\n",
    "\n",
    "\n",
    "# drop the unused column \n",
    "# titanic_df = titanic_df.drop('Cabin_side', axis = 1)\n",
    "# titanic_df = titanic_df.drop('Cabin', axis = 1)\n",
    "\n",
    "\n",
    "# print the dataframe\n",
    "# titanic_df.head(5)    # commented out"
   ]
  },
  {
   "cell_type": "markdown",
   "id": "26b56813",
   "metadata": {},
   "source": [
    "------------------------------------------\n",
    "**Destination**"
   ]
  },
  {
   "cell_type": "code",
   "execution_count": 154,
   "id": "c8823de2",
   "metadata": {},
   "outputs": [
    {
     "name": "stdout",
     "output_type": "stream",
     "text": [
      "TRAPPIST-1e      9145\n",
      "55 Cancri e      2641\n",
      "PSO J318.5-22    1184\n",
      "Name: Destination, dtype: int64\n"
     ]
    }
   ],
   "source": [
    "# Count the number of occurrences of each value in the 'column1' column\n",
    "value_counts = titanic_df['Destination'].value_counts()\n",
    "\n",
    "# Print the result\n",
    "print(value_counts)"
   ]
  },
  {
   "cell_type": "code",
   "execution_count": 155,
   "id": "77461f7c",
   "metadata": {},
   "outputs": [
    {
     "name": "stdout",
     "output_type": "stream",
     "text": [
      "['TRAPPIST-1e' 'PSO J318.5-22' '55 Cancri e']\n"
     ]
    }
   ],
   "source": [
    "# check the unique value of the column\n",
    "unique_values_group = titanic_df['Destination'].unique()\n",
    "print(unique_values_group)"
   ]
  },
  {
   "cell_type": "code",
   "execution_count": 156,
   "id": "09eef0fa",
   "metadata": {},
   "outputs": [
    {
     "name": "stdout",
     "output_type": "stream",
     "text": [
      "Transported    False  True\n",
      "Destination               \n",
      "55 Cancri e     0.27  0.73\n",
      "PSO J318.5-22   0.33  0.67\n",
      "TRAPPIST-1e     0.35  0.65\n"
     ]
    }
   ],
   "source": [
    "# calculate the proportion of true and false values for each group\n",
    "destination_props = titanic_df.groupby('Destination')['Transported'].value_counts(normalize=True).unstack().round(2)\n",
    "\n",
    "# show as a chart\n",
    "print(destination_props)"
   ]
  },
  {
   "cell_type": "code",
   "execution_count": 157,
   "id": "98133be5",
   "metadata": {},
   "outputs": [],
   "source": [
    "# create a new column for HomePlanet\n",
    "titanic_df['Destination_int'] = np.nan\n",
    "for i in range(len(titanic_df)):\n",
    "    if titanic_df.loc[i, 'Destination'] == 'TRAPPIST-1e':\n",
    "        titanic_df.loc[i, 'Destination_int'] = 0\n",
    "    elif titanic_df.loc[i, 'Destination'] == 'PSO J318.5-22':\n",
    "        titanic_df.loc[i, 'Destination_int'] = 1\n",
    "    elif titanic_df.loc[i, 'Destination'] == '55 Cancri e':\n",
    "        titanic_df.loc[i, 'Destination_int'] = 2\n",
    "\n",
    "\n",
    "# drop the unused column \n",
    "# titanic_df = titanic_df.drop('Destination', axis = 1)\n",
    "\n",
    "\n",
    "# print the dataframe\n",
    "# titanic_df.head(5)   # commented out"
   ]
  },
  {
   "cell_type": "markdown",
   "id": "a4e5a846",
   "metadata": {},
   "source": [
    "-------------------------------------------\n",
    "**VIP**"
   ]
  },
  {
   "cell_type": "code",
   "execution_count": 158,
   "id": "5c2b802b",
   "metadata": {},
   "outputs": [],
   "source": [
    "# Convert the boolean column to integer (1 for True, 0 for False)\n",
    "titanic_df['VIP'] = titanic_df['VIP'].astype(float)\n",
    "\n",
    "\n",
    "# check\n",
    "#titanic_df.head(5)   # commented out"
   ]
  },
  {
   "cell_type": "markdown",
   "id": "61448a07",
   "metadata": {},
   "source": [
    "-------------------------------------------\n",
    "**Transported**"
   ]
  },
  {
   "cell_type": "code",
   "execution_count": 159,
   "id": "813007ab",
   "metadata": {},
   "outputs": [],
   "source": [
    "# Convert the boolean column to integer (1 for True, 0 for False)\n",
    "titanic_df['Transported'] = titanic_df['Transported'].astype(int)"
   ]
  },
  {
   "cell_type": "markdown",
   "id": "5a1128bb",
   "metadata": {},
   "source": [
    "----------------------------------\n",
    "**Log Transforming**"
   ]
  },
  {
   "cell_type": "code",
   "execution_count": 160,
   "id": "a6421e5b",
   "metadata": {},
   "outputs": [],
   "source": [
    "# log transforming XX and saving it to the dataset\n",
    "titanic_df['log_Age'] = np.log(titanic_df['Age'] + 0.0001)\n",
    "\n",
    "\n",
    "# log transforming XX and saving it to the dataset\n",
    "titanic_df['log_group_number_int'] = np.log(titanic_df['group_number_int']+0.0001)\n",
    "\n",
    "\n",
    "# log transforming XX and saving it to the dataset\n",
    "titanic_df['log_Cabin_num_int'] = np.log(titanic_df['Cabin_num_int']+0.0001)\n",
    "\n",
    "\n",
    "# log transforming XX and saving it to the dataset\n",
    "titanic_df['log_Cabin_deck_int'] = np.log(titanic_df['Cabin_deck_int']+0.0001)\n",
    "\n",
    "\n",
    "# log transforming XX and saving it to the dataset\n",
    "titanic_df['log_RoomService'] = np.log(titanic_df['RoomService']+0.0001)\n",
    "\n",
    "\n",
    "# log transforming XX and saving it to the dataset\n",
    "titanic_df['log_FoodCourt'] = np.log(titanic_df['FoodCourt']+0.0001)\n",
    "\n",
    "\n",
    "# log transforming XX and saving it to the dataset\n",
    "titanic_df['log_ShoppingMall'] = np.log(titanic_df['ShoppingMall']+0.0001)\n",
    "\n",
    "\n",
    "# log transforming XX and saving it to the dataset\n",
    "titanic_df['log_Spa'] = np.log(titanic_df['Spa']+0.0001)\n",
    "\n",
    "\n",
    "# log transforming XX and saving it to the dataset\n",
    "titanic_df['log_VRDeck'] = np.log(titanic_df['VRDeck']+0.0001)\n",
    "\n",
    "\n",
    "# log transforming XX and saving it to the dataset\n",
    "titanic_df['log_Destination_int'] = np.log(titanic_df['Destination_int']+0.0001)\n",
    "\n",
    "\n",
    "# log transforming XX and saving it to the dataset\n",
    "titanic_df['log_HomePlanet_int'] = np.log(titanic_df['HomePlanet_int']+0.0001)\n",
    "\n",
    "\n",
    "# log transforming XX and saving it to the dataset\n",
    "titanic_df['log_VIP'] = np.log(titanic_df['VIP']+0.0001)\n",
    "\n",
    "\n",
    "# log transforming XX and saving it to the dataset\n",
    "titanic_df['log_Cabin_side_int'] = np.log(titanic_df['Cabin_side_int']+0.0001)"
   ]
  },
  {
   "cell_type": "markdown",
   "id": "0cde1af2",
   "metadata": {},
   "source": [
    "-------------------------------------------------------\n",
    "**Other New Features**"
   ]
  },
  {
   "cell_type": "code",
   "execution_count": 161,
   "id": "0f55cba2",
   "metadata": {},
   "outputs": [
    {
     "name": "stderr",
     "output_type": "stream",
     "text": [
      "/Users/hayatanakamura/opt/anaconda3/lib/python3.9/site-packages/pandas/core/arraylike.py:397: RuntimeWarning: invalid value encountered in log\n",
      "  result = getattr(ufunc, method)(*inputs, **kwargs)\n",
      "/Users/hayatanakamura/opt/anaconda3/lib/python3.9/site-packages/pandas/core/arraylike.py:397: RuntimeWarning: invalid value encountered in log\n",
      "  result = getattr(ufunc, method)(*inputs, **kwargs)\n",
      "/Users/hayatanakamura/opt/anaconda3/lib/python3.9/site-packages/pandas/core/arraylike.py:397: RuntimeWarning: invalid value encountered in log\n",
      "  result = getattr(ufunc, method)(*inputs, **kwargs)\n",
      "/Users/hayatanakamura/opt/anaconda3/lib/python3.9/site-packages/pandas/core/arraylike.py:397: RuntimeWarning: invalid value encountered in log\n",
      "  result = getattr(ufunc, method)(*inputs, **kwargs)\n",
      "/Users/hayatanakamura/opt/anaconda3/lib/python3.9/site-packages/pandas/core/arraylike.py:397: RuntimeWarning: invalid value encountered in log\n",
      "  result = getattr(ufunc, method)(*inputs, **kwargs)\n"
     ]
    }
   ],
   "source": [
    "# CyroSleep_multipleby_TotalExpese\n",
    "titanic_df['CyroSleep_multipleby_TotalExpense'] = titanic_df['CryoSleep'] * (titanic_df['log_Spa'] + titanic_df['log_RoomService'] + titanic_df['log_VRDeck'] +titanic_df['log_ShoppingMall'] + titanic_df['log_FoodCourt'])\n",
    "\n",
    "\n",
    "# Expense_InsideRoom \n",
    "titanic_df['Expense_InsideRoom'] = titanic_df['log_Spa'] + titanic_df['log_RoomService'] + titanic_df['log_VRDeck']\n",
    "\n",
    "\n",
    "# Expense_OutsideRoom \n",
    "titanic_df['Expense_OutsideRoom'] = titanic_df['log_ShoppingMall'] + titanic_df['log_FoodCourt'] \n",
    "\n",
    "\n",
    "# CabinInformation\n",
    "titanic_df['CabinInformation'] = titanic_df['log_Cabin_deck_int'] + titanic_df['Cabin_side_int'] + titanic_df['Cabin_num_int'] \n",
    "\n",
    "\n",
    "# GroupNumber_multipleby_VIP\n",
    "titanic_df['GroupNumber_multipleby_VIP'] = titanic_df['log_group_number_int'] * titanic_df['VIP'] \n",
    "\n",
    "\n",
    "# Destination_multipleby_CryoSleep \n",
    "titanic_df['Destination_multipleby_CryoSleep'] = titanic_df['Destination_int'] * titanic_df['CryoSleep'] \n",
    "\n",
    "\n",
    "# GroupNumber_mutipleby_TotalExpense \n",
    "titanic_df['GroupNumber_mutipleby_TotalExpense'] = titanic_df['log_group_number_int'] * (titanic_df['log_Spa'] + titanic_df['log_RoomService'] + titanic_df['log_VRDeck'] +titanic_df['log_ShoppingMall'] + titanic_df['log_FoodCourt'])\n",
    "\n",
    "\n",
    "# DeckSide_multipleby_CabinNum \n",
    "titanic_df['DeckSide_multipleby_CabinNum'] = (titanic_df['log_Cabin_deck_int'] * titanic_df['Cabin_side_int'] ) + titanic_df['Cabin_num_int']\n",
    "\n",
    "\n",
    "# log transforming XX and saving it to the dataset\n",
    "titanic_df['log_CyroSleep_multipleby_TotalExpense'] = np.log(titanic_df['CyroSleep_multipleby_TotalExpense']+0.0001)\n",
    "\n",
    "\n",
    "# log transforming XX and saving it to the dataset\n",
    "titanic_df['log_Expense_InsideRoom'] = np.log(titanic_df['Expense_InsideRoom']+0.0001)\n",
    "\n",
    "\n",
    "# log transforming XX and saving it to the dataset\n",
    "titanic_df['log_Expense_OutsideRoom'] = np.log(titanic_df['Expense_OutsideRoom']+0.0001)\n",
    "\n",
    "\n",
    "# log transforming XX and saving it to the dataset\n",
    "titanic_df['log_Destination_multipleby_CryoSleep'] = np.log(titanic_df['Destination_multipleby_CryoSleep']+0.0001)\n",
    "\n",
    "\n",
    "# log transforming XX and saving it to the dataset\n",
    "titanic_df['log_GroupNumber_mutipleby_TotalExpense'] = np.log(titanic_df['GroupNumber_mutipleby_TotalExpense']+0.0001)\n",
    "\n",
    "\n",
    "# log transforming XX and saving it to the dataset\n",
    "titanic_df['log_DeckSide_multipleby_CabinNum'] = np.log(titanic_df['DeckSide_multipleby_CabinNum']+0.0001)\n",
    "\n",
    "\n",
    "# display and check\n",
    "#titanic_df.head(5)   # commented out"
   ]
  },
  {
   "cell_type": "markdown",
   "id": "47c6e5c6",
   "metadata": {},
   "source": [
    "<hr style=\"height:.9px;border:none;color:#333;background-color:#333;\" />\n",
    "\n",
    "# Developing Models"
   ]
  },
  {
   "cell_type": "markdown",
   "id": "b5fa060f",
   "metadata": {},
   "source": [
    "---------------------------------------\n",
    "In the competition, five models in total had been developed, including both nonparametric and parametric below. <br>\n",
    "\n",
    "|  | Model Type | Model Name | Model Explanation | \n",
    "| :--- | :--- | :--- | :--- |\n",
    "| 1 | Non-Parametric | Gradient Boosting Machine | Gradient Boosting is a type of ensemble learning that combines a number of weak predictive models to create a highly accurate predictive model. |\n",
    "| 2 | Non-Parametric | Random Forest | Random Forest is an ensemble learning technique that combines multiple decision trees, randomly selecting features of the data to create a decision tree. Those predictions are then combined to create the final prediction. |\n",
    "| 3 | Parametric | Logistic Regression | Logistic regression is a statistical technique for dealing with data that fall into two classes. It uses features and their weights to predict which class the data belong to. |\n",
    "| 4 | Parametric | Ridge Classifier | Ridge Classifier is a method for classifying into two classes similar to logistic regression and uses L2 regularization to prevent overfitting the model. |\n",
    "| 5 | Non-Parametric | Voting Classifier | The final prediction is determined by a majority vote of the predictions of each of the above four models: two Gradient Boosting Machine models, two Random Forest models. |\n"
   ]
  },
  {
   "cell_type": "markdown",
   "id": "8ffc9c22",
   "metadata": {},
   "source": [
    "--------------------------------------------------------------\n",
    "Check the correlation coefficients between the explanatory variables and the response variable."
   ]
  },
  {
   "cell_type": "code",
   "execution_count": 162,
   "id": "104aff8b",
   "metadata": {},
   "outputs": [
    {
     "data": {
      "text/plain": [
       "Transported                               1.00\n",
       "Expense_InsideRoom                        0.49\n",
       "CyroSleep_multipleby_TotalExpense         0.46\n",
       "CryoSleep                                 0.46\n",
       "log_RoomService                           0.36\n",
       "log_Spa                                   0.36\n",
       "log_VRDeck                                0.34\n",
       "Destination_multipleby_CryoSleep          0.28\n",
       "GroupNumber_mutipleby_TotalExpense        0.28\n",
       "Expense_OutsideRoom                       0.28\n",
       "log_Destination_multipleby_CryoSleep      0.27\n",
       "RoomService                               0.26\n",
       "Spa                                       0.24\n",
       "log_ShoppingMall                          0.24\n",
       "log_GroupNumber_mutipleby_TotalExpense    0.23\n",
       "VRDeck                                    0.22\n",
       "log_FoodCourt                             0.20\n",
       "Cabin_deck_int                            0.20\n",
       "HomePlanet_int                            0.19\n",
       "log_HomePlanet_int                        0.19\n",
       "log_Cabin_deck_int                        0.12\n",
       "log_Age                                   0.11\n",
       "Destination_int                           0.11\n",
       "Cabin_side_int                            0.10\n",
       "log_Cabin_side_int                        0.10\n",
       "log_Destination_int                       0.10\n",
       "log_group_number_int                      0.09\n",
       "group_number_int                          0.09\n",
       "Age                                       0.07\n",
       "log_Expense_OutsideRoom                   0.06\n",
       "GroupNumber_multipleby_VIP                0.04\n",
       "CabinInformation                          0.04\n",
       "DeckSide_multipleby_CabinNum              0.04\n",
       "log_DeckSide_multipleby_CabinNum          0.04\n",
       "log_VIP                                   0.04\n",
       "Cabin_num_int                             0.04\n",
       "FoodCourt                                 0.04\n",
       "VIP                                       0.04\n",
       "log_Cabin_num_int                         0.03\n",
       "log_Expense_InsideRoom                    0.03\n",
       "PassengerID                               0.02\n",
       "index                                     0.02\n",
       "ShoppingMall                              0.00\n",
       "log_CyroSleep_multipleby_TotalExpense      NaN\n",
       "Name: Transported, dtype: float64"
      ]
     },
     "execution_count": 162,
     "metadata": {},
     "output_type": "execute_result"
    }
   ],
   "source": [
    "# instantiating a correlation matrix\n",
    "titanic_corr = titanic_df[ titanic_df['set'] == 'Training' ].corr(method = 'pearson').round(decimals = 2)\n",
    "\n",
    "\n",
    "# transforming correlations to absolute values\n",
    "titanic_corr.loc[ : , 'Transported' ].apply(func = abs).sort_values(ascending = False)"
   ]
  },
  {
   "cell_type": "markdown",
   "id": "deecadc7",
   "metadata": {},
   "source": [
    "**<u>Analysis Outputs 1</u>**\n",
    "- The table above shows the correlation coefficient between each variable and the response variable, Transported. The higher this correlation coefficient, the stronger the correlation between each variable and the response variable. In other words, the higher the correlation coefficient, the more likely the features are to contribute to the models being developed.\n",
    "-The strongest correlation is Expense_InsideRoom, with a correlation coefficient of 0.49, which is a moderate correlation. This feature, simply interpreted, corresponds to the \"use of in-room services\" such as Spa, Room Service, and VRDeck. Therefore, features related to them such as log_RoomService, log_Spa, log_Deck also tend to have relatively high correlation coefficients as well.\n",
    "- Other new features combined with CryoSleep, such as Destination_multipleby_CryoSleep, also have relatively high correlation coefficients.\n",
    "- Expense_OutsideRoom also has an above-average correlation coefficient. This feature is a feature associated with the use of food courts and shopping malls. Thus, similarly, log_ShoppingMall and log_FoodCourt also have correlation coefficients above 0.2."
   ]
  },
  {
   "cell_type": "markdown",
   "id": "438c7a57",
   "metadata": {},
   "source": [
    "-------------------------------------------------\n",
    "Identify significant variables in the logistic regression model utilizing statsmodel."
   ]
  },
  {
   "cell_type": "code",
   "execution_count": 163,
   "id": "1d88ec06",
   "metadata": {},
   "outputs": [
    {
     "name": "stdout",
     "output_type": "stream",
     "text": [
      "Optimization terminated successfully.\n",
      "         Current function value: 0.536635\n",
      "         Iterations 7\n"
     ]
    },
    {
     "data": {
      "text/html": [
       "<table class=\"simpletable\">\n",
       "<tr>\n",
       "        <td>Model:</td>              <td>Logit</td>      <td>Pseudo R-squared:</td>    <td>0.156</td>  \n",
       "</tr>\n",
       "<tr>\n",
       "  <td>Dependent Variable:</td>    <td>Transported</td>         <td>AIC:</td>        <td>13948.3248</td>\n",
       "</tr>\n",
       "<tr>\n",
       "         <td>Date:</td>        <td>2023-03-11 19:53</td>       <td>BIC:</td>        <td>14052.9103</td>\n",
       "</tr>\n",
       "<tr>\n",
       "   <td>No. Observations:</td>        <td>12970</td>       <td>Log-Likelihood:</td>    <td>-6960.2</td> \n",
       "</tr>\n",
       "<tr>\n",
       "       <td>Df Model:</td>             <td>13</td>            <td>LL-Null:</td>        <td>-8249.8</td> \n",
       "</tr>\n",
       "<tr>\n",
       "     <td>Df Residuals:</td>          <td>12956</td>        <td>LLR p-value:</td>      <td>0.0000</td>  \n",
       "</tr>\n",
       "<tr>\n",
       "      <td>Converged:</td>           <td>1.0000</td>           <td>Scale:</td>         <td>1.0000</td>  \n",
       "</tr>\n",
       "<tr>\n",
       "    <td>No. Iterations:</td>        <td>7.0000</td>              <td></td>               <td></td>     \n",
       "</tr>\n",
       "</table>\n",
       "<table class=\"simpletable\">\n",
       "<tr>\n",
       "                   <td></td>                   <th>Coef.</th>  <th>Std.Err.</th>     <th>z</th>     <th>P>|z|</th> <th>[0.025</th>  <th>0.975]</th> \n",
       "</tr>\n",
       "<tr>\n",
       "  <th>Intercept</th>                          <td>-0.5921</td>  <td>0.0804</td>   <td>-7.3646</td> <td>0.0000</td> <td>-0.7497</td> <td>-0.4345</td>\n",
       "</tr>\n",
       "<tr>\n",
       "  <th>Expense_InsideRoom</th>                 <td>-0.0283</td>  <td>0.0024</td>  <td>-11.9757</td> <td>0.0000</td> <td>-0.0329</td> <td>-0.0236</td>\n",
       "</tr>\n",
       "<tr>\n",
       "  <th>CyroSleep_multipleby_TotalExpense</th>  <td>-0.0216</td>  <td>0.0018</td>  <td>-12.1613</td> <td>0.0000</td> <td>-0.0250</td> <td>-0.0181</td>\n",
       "</tr>\n",
       "<tr>\n",
       "  <th>Destination_multipleby_CryoSleep</th>   <td>0.2101</td>   <td>0.0708</td>   <td>2.9675</td>  <td>0.0030</td> <td>0.0713</td>  <td>0.3489</td> \n",
       "</tr>\n",
       "<tr>\n",
       "  <th>GroupNumber_mutipleby_TotalExpense</th> <td>-0.0004</td>  <td>0.0002</td>   <td>-2.3831</td> <td>0.0172</td> <td>-0.0008</td> <td>-0.0001</td>\n",
       "</tr>\n",
       "<tr>\n",
       "  <th>Expense_OutsideRoom</th>                <td>0.0226</td>   <td>0.0036</td>   <td>6.3691</td>  <td>0.0000</td> <td>0.0157</td>  <td>0.0296</td> \n",
       "</tr>\n",
       "<tr>\n",
       "  <th>Spa</th>                                <td>-0.0003</td>  <td>0.0000</td>  <td>-12.4653</td> <td>0.0000</td> <td>-0.0004</td> <td>-0.0003</td>\n",
       "</tr>\n",
       "<tr>\n",
       "  <th>log_ShoppingMall</th>                   <td>-0.0168</td>  <td>0.0045</td>   <td>-3.7149</td> <td>0.0002</td> <td>-0.0257</td> <td>-0.0080</td>\n",
       "</tr>\n",
       "<tr>\n",
       "  <th>VRDeck</th>                             <td>-0.0003</td>  <td>0.0000</td>  <td>-11.0975</td> <td>0.0000</td> <td>-0.0003</td> <td>-0.0002</td>\n",
       "</tr>\n",
       "<tr>\n",
       "  <th>log_Age</th>                            <td>-0.0691</td>  <td>0.0152</td>   <td>-4.5400</td> <td>0.0000</td> <td>-0.0989</td> <td>-0.0393</td>\n",
       "</tr>\n",
       "<tr>\n",
       "  <th>Cabin_deck_int</th>                     <td>0.1046</td>   <td>0.0278</td>   <td>3.7646</td>  <td>0.0002</td> <td>0.0502</td>  <td>0.1591</td> \n",
       "</tr>\n",
       "<tr>\n",
       "  <th>HomePlanet_int</th>                     <td>0.5380</td>   <td>0.0313</td>   <td>17.1683</td> <td>0.0000</td> <td>0.4765</td>  <td>0.5994</td> \n",
       "</tr>\n",
       "<tr>\n",
       "  <th>Destination_int</th>                    <td>0.0728</td>   <td>0.0306</td>   <td>2.3788</td>  <td>0.0174</td> <td>0.0128</td>  <td>0.1328</td> \n",
       "</tr>\n",
       "<tr>\n",
       "  <th>Cabin_side_int</th>                     <td>0.3415</td>   <td>0.0414</td>   <td>8.2415</td>  <td>0.0000</td> <td>0.2603</td>  <td>0.4227</td> \n",
       "</tr>\n",
       "</table>"
      ],
      "text/plain": [
       "<class 'statsmodels.iolib.summary2.Summary'>\n",
       "\"\"\"\n",
       "                                  Results: Logit\n",
       "===================================================================================\n",
       "Model:                    Logit                  Pseudo R-squared:       0.156     \n",
       "Dependent Variable:       Transported            AIC:                    13948.3248\n",
       "Date:                     2023-03-11 19:53       BIC:                    14052.9103\n",
       "No. Observations:         12970                  Log-Likelihood:         -6960.2   \n",
       "Df Model:                 13                     LL-Null:                -8249.8   \n",
       "Df Residuals:             12956                  LLR p-value:            0.0000    \n",
       "Converged:                1.0000                 Scale:                  1.0000    \n",
       "No. Iterations:           7.0000                                                   \n",
       "-----------------------------------------------------------------------------------\n",
       "                                    Coef.  Std.Err.    z     P>|z|   [0.025  0.975]\n",
       "-----------------------------------------------------------------------------------\n",
       "Intercept                          -0.5921   0.0804  -7.3646 0.0000 -0.7497 -0.4345\n",
       "Expense_InsideRoom                 -0.0283   0.0024 -11.9757 0.0000 -0.0329 -0.0236\n",
       "CyroSleep_multipleby_TotalExpense  -0.0216   0.0018 -12.1613 0.0000 -0.0250 -0.0181\n",
       "Destination_multipleby_CryoSleep    0.2101   0.0708   2.9675 0.0030  0.0713  0.3489\n",
       "GroupNumber_mutipleby_TotalExpense -0.0004   0.0002  -2.3831 0.0172 -0.0008 -0.0001\n",
       "Expense_OutsideRoom                 0.0226   0.0036   6.3691 0.0000  0.0157  0.0296\n",
       "Spa                                -0.0003   0.0000 -12.4653 0.0000 -0.0004 -0.0003\n",
       "log_ShoppingMall                   -0.0168   0.0045  -3.7149 0.0002 -0.0257 -0.0080\n",
       "VRDeck                             -0.0003   0.0000 -11.0975 0.0000 -0.0003 -0.0002\n",
       "log_Age                            -0.0691   0.0152  -4.5400 0.0000 -0.0989 -0.0393\n",
       "Cabin_deck_int                      0.1046   0.0278   3.7646 0.0002  0.0502  0.1591\n",
       "HomePlanet_int                      0.5380   0.0313  17.1683 0.0000  0.4765  0.5994\n",
       "Destination_int                     0.0728   0.0306   2.3788 0.0174  0.0128  0.1328\n",
       "Cabin_side_int                      0.3415   0.0414   8.2415 0.0000  0.2603  0.4227\n",
       "===================================================================================\n",
       "\n",
       "\"\"\""
      ]
     },
     "execution_count": 163,
     "metadata": {},
     "output_type": "execute_result"
    }
   ],
   "source": [
    "# Instantiate a logistic regression model object\n",
    "# Use and check the full set first\n",
    "logreg_full = smf.logit(formula = \"\"\"Transported ~ Expense_InsideRoom +\n",
    "                                                   CyroSleep_multipleby_TotalExpense +\n",
    "                                                   Destination_multipleby_CryoSleep +\n",
    "                                                   GroupNumber_mutipleby_TotalExpense +\n",
    "                                                   Expense_OutsideRoom +\n",
    "                                                   Spa +\n",
    "                                                   log_ShoppingMall +\n",
    "                                                   VRDeck +\n",
    "                                                   log_Age +\n",
    "                                                   Cabin_deck_int +\n",
    "                                                   HomePlanet_int +\n",
    "                                                   Destination_int +\n",
    "                                                   Cabin_side_int \n",
    "                                                   \"\"\",\n",
    "                        data = titanic_df)\n",
    "\n",
    "\n",
    "# Fit the model object\n",
    "results_full = logreg_full.fit()\n",
    "\n",
    "\n",
    "# Check the results summary\n",
    "results_full.summary2()"
   ]
  },
  {
   "cell_type": "markdown",
   "id": "05e7bed9",
   "metadata": {},
   "source": [
    "**<u>Analysis Outputs 2</u>**\n",
    "- The above table is the result of a logistic regression analysis. The explanatory variables, or features, have been selected so that the model is valid. There are multiple checkpoints for model validity. The first important one is the \"p-value\" of each feature. If they are smaller than 0.05, indicating that they do not interfere with each other and that the features have been properly selected. Second, the difference between AIC and BIC is also important. In the model, this difference is approximately 102, which is appropriate because it is small, approximately 0.8% of the AIC value.\n",
    "- Pseudo R-squared of 0.156 indicates a moderate to slightly higher fit. Pseudo R-squared is one measure of how good a fit a model has; it takes values ranging from 0 to 1, with the closer to 1, the better the model fit.\n",
    "- The features listed in the table above contribute appropriately to this model. In other words, it implies that these features have an impact on whether passengers are Transported or not.\n",
    "- In this model, Spa, log_ShoppingMall, and VRDeck are included as features, and these features are factored into Expense_insideRoom. Therefore, these features will be omitted from the logistic regression model developed below."
   ]
  },
  {
   "cell_type": "markdown",
   "id": "d3111fac",
   "metadata": {},
   "source": [
    "----------------------------------------------------\n",
    "Identify significant variables in Ridge Classifier model utilizing statsmodel."
   ]
  },
  {
   "cell_type": "code",
   "execution_count": 164,
   "id": "ea22afbf",
   "metadata": {},
   "outputs": [
    {
     "data": {
      "text/html": [
       "<table class=\"simpletable\">\n",
       "<tr>\n",
       "        <td>Model:</td>               <td>OLS</td>         <td>Adj. R-squared:</td>      <td>0.159</td>  \n",
       "</tr>\n",
       "<tr>\n",
       "  <td>Dependent Variable:</td>    <td>Transported</td>          <td>AIC:</td>         <td>15045.9265</td>\n",
       "</tr>\n",
       "<tr>\n",
       "         <td>Date:</td>        <td>2023-03-11 19:53</td>        <td>BIC:</td>         <td>15105.6896</td>\n",
       "</tr>\n",
       "<tr>\n",
       "   <td>No. Observations:</td>        <td>12970</td>        <td>Log-Likelihood:</td>     <td>-7515.0</td> \n",
       "</tr>\n",
       "<tr>\n",
       "       <td>Df Model:</td>              <td>7</td>           <td>F-statistic:</td>        <td>352.0</td>  \n",
       "</tr>\n",
       "<tr>\n",
       "     <td>Df Residuals:</td>          <td>12962</td>      <td>Prob (F-statistic):</td>    <td>0.00</td>   \n",
       "</tr>\n",
       "<tr>\n",
       "      <td>R-squared:</td>            <td>0.160</td>            <td>Scale:</td>          <td>0.18667</td> \n",
       "</tr>\n",
       "</table>\n",
       "<table class=\"simpletable\">\n",
       "<tr>\n",
       "                   <td></td>                   <th>Coef.</th>  <th>Std.Err.</th>     <th>t</th>     <th>P>|t|</th> <th>[0.025</th>  <th>0.975]</th> \n",
       "</tr>\n",
       "<tr>\n",
       "  <th>Intercept</th>                          <td>0.3803</td>   <td>0.0103</td>   <td>37.0844</td> <td>0.0000</td> <td>0.3602</td>  <td>0.4004</td> \n",
       "</tr>\n",
       "<tr>\n",
       "  <th>Expense_InsideRoom</th>                 <td>-0.0092</td>  <td>0.0004</td>  <td>-22.8070</td> <td>0.0000</td> <td>-0.0100</td> <td>-0.0084</td>\n",
       "</tr>\n",
       "<tr>\n",
       "  <th>CyroSleep_multipleby_TotalExpense</th>  <td>-0.0036</td>  <td>0.0003</td>  <td>-12.7099</td> <td>0.0000</td> <td>-0.0042</td> <td>-0.0031</td>\n",
       "</tr>\n",
       "<tr>\n",
       "  <th>GroupNumber_mutipleby_TotalExpense</th> <td>-0.0001</td>  <td>0.0000</td>   <td>-3.1050</td> <td>0.0019</td> <td>-0.0001</td> <td>-0.0000</td>\n",
       "</tr>\n",
       "<tr>\n",
       "  <th>Expense_OutsideRoom</th>                <td>0.0033</td>   <td>0.0005</td>   <td>6.4808</td>  <td>0.0000</td> <td>0.0023</td>  <td>0.0044</td> \n",
       "</tr>\n",
       "<tr>\n",
       "  <th>HomePlanet_int</th>                     <td>0.0665</td>   <td>0.0048</td>   <td>13.9731</td> <td>0.0000</td> <td>0.0572</td>  <td>0.0759</td> \n",
       "</tr>\n",
       "<tr>\n",
       "  <th>Destination_int</th>                    <td>0.0151</td>   <td>0.0048</td>   <td>3.1740</td>  <td>0.0015</td> <td>0.0058</td>  <td>0.0245</td> \n",
       "</tr>\n",
       "<tr>\n",
       "  <th>Cabin_side_int</th>                     <td>0.0610</td>   <td>0.0076</td>   <td>8.0416</td>  <td>0.0000</td> <td>0.0462</td>  <td>0.0759</td> \n",
       "</tr>\n",
       "</table>\n",
       "<table class=\"simpletable\">\n",
       "<tr>\n",
       "     <td>Omnibus:</td>    <td>7171.695</td>  <td>Durbin-Watson:</td>     <td>1.371</td> \n",
       "</tr>\n",
       "<tr>\n",
       "  <td>Prob(Omnibus):</td>   <td>0.000</td>  <td>Jarque-Bera (JB):</td> <td>1119.061</td>\n",
       "</tr>\n",
       "<tr>\n",
       "       <td>Skew:</td>      <td>-0.442</td>      <td>Prob(JB):</td>       <td>0.000</td> \n",
       "</tr>\n",
       "<tr>\n",
       "     <td>Kurtosis:</td>     <td>1.864</td>   <td>Condition No.:</td>      <td>708</td>  \n",
       "</tr>\n",
       "</table>"
      ],
      "text/plain": [
       "<class 'statsmodels.iolib.summary2.Summary'>\n",
       "\"\"\"\n",
       "                          Results: Ordinary least squares\n",
       "===================================================================================\n",
       "Model:                    OLS                   Adj. R-squared:          0.159     \n",
       "Dependent Variable:       Transported           AIC:                     15045.9265\n",
       "Date:                     2023-03-11 19:53      BIC:                     15105.6896\n",
       "No. Observations:         12970                 Log-Likelihood:          -7515.0   \n",
       "Df Model:                 7                     F-statistic:             352.0     \n",
       "Df Residuals:             12962                 Prob (F-statistic):      0.00      \n",
       "R-squared:                0.160                 Scale:                   0.18667   \n",
       "-----------------------------------------------------------------------------------\n",
       "                                    Coef.  Std.Err.    t     P>|t|   [0.025  0.975]\n",
       "-----------------------------------------------------------------------------------\n",
       "Intercept                           0.3803   0.0103  37.0844 0.0000  0.3602  0.4004\n",
       "Expense_InsideRoom                 -0.0092   0.0004 -22.8070 0.0000 -0.0100 -0.0084\n",
       "CyroSleep_multipleby_TotalExpense  -0.0036   0.0003 -12.7099 0.0000 -0.0042 -0.0031\n",
       "GroupNumber_mutipleby_TotalExpense -0.0001   0.0000  -3.1050 0.0019 -0.0001 -0.0000\n",
       "Expense_OutsideRoom                 0.0033   0.0005   6.4808 0.0000  0.0023  0.0044\n",
       "HomePlanet_int                      0.0665   0.0048  13.9731 0.0000  0.0572  0.0759\n",
       "Destination_int                     0.0151   0.0048   3.1740 0.0015  0.0058  0.0245\n",
       "Cabin_side_int                      0.0610   0.0076   8.0416 0.0000  0.0462  0.0759\n",
       "-----------------------------------------------------------------------------------\n",
       "Omnibus:                  7171.695            Durbin-Watson:               1.371   \n",
       "Prob(Omnibus):            0.000               Jarque-Bera (JB):            1119.061\n",
       "Skew:                     -0.442              Prob(JB):                    0.000   \n",
       "Kurtosis:                 1.864               Condition No.:               708     \n",
       "===================================================================================\n",
       "\n",
       "\"\"\""
      ]
     },
     "execution_count": 164,
     "metadata": {},
     "output_type": "execute_result"
    }
   ],
   "source": [
    "# Instantiate a logistic regression model object\n",
    "# Use and check the full set first\n",
    "ridge_full = smf.ols(formula = \"\"\"Transported ~ Expense_InsideRoom +\n",
    "                                                CyroSleep_multipleby_TotalExpense +\n",
    "                                                GroupNumber_mutipleby_TotalExpense +\n",
    "                                                Expense_OutsideRoom +\n",
    "                                                HomePlanet_int +\n",
    "                                                Destination_int +\n",
    "                                                Cabin_side_int \n",
    "                                                \"\"\",\n",
    "                     data = titanic_df)\n",
    "\n",
    "\n",
    "# Fit the model object\n",
    "results_full = ridge_full.fit()\n",
    "\n",
    "\n",
    "# Check the results summary\n",
    "results_full.summary2()"
   ]
  },
  {
   "cell_type": "markdown",
   "id": "1dc90d9d",
   "metadata": {},
   "source": [
    "**<u>Analysis Outputs 3</u>**\n",
    "- The above table is the result of a Ridge model analysis. The explanatory variables, or features, have been selected so that the model is valid. There are multiple checkpoints for model validity. The first important one is the \"p-value\" of each feature. If they are smaller than 0.05, indicating that they do not interfere with each other and that the features have been properly selected. Second, the difference between AIC and BIC is also important. In the model, this difference is approximately 60, which is appropriate because it is small, approximately 0.4% of the AIC value.\n",
    "- Adj. R-squared of 0.159 indicates a slightly lower fit. Adj. R-squared is one measure of how good a fit a model has; it takes values ranging from 0 to 1, with the closer to 1, the better the model fit.\n",
    "- The features listed in the table above contribute appropriately to this model. In other words, it implies that these features have an impact on whether passengers are Transported or not."
   ]
  },
  {
   "cell_type": "markdown",
   "id": "8b8f06aa",
   "metadata": {},
   "source": [
    "----------------------------------------------------\n",
    "Register explanatory variables for the models in a dictionary."
   ]
  },
  {
   "cell_type": "code",
   "execution_count": 165,
   "id": "b9cbfdd5",
   "metadata": {},
   "outputs": [],
   "source": [
    "# Creating dictionaries to store candidate explanatory variables\n",
    "candidate_dict = {\n",
    "\n",
    "\n",
    "   # full variables set for GBM and RF\n",
    "   'full_vars'          : ['CryoSleep', \n",
    "                           'Age', \n",
    "                           'VIP', \n",
    "                           'log_RoomService', \n",
    "                           'FoodCourt', \n",
    "                           'log_ShoppingMall', \n",
    "                           'Spa', \n",
    "                           'VRDeck', \n",
    "                           'PassengerID', \n",
    "                           'group_number_int', \n",
    "                           'HomePlanet_int', \n",
    "                           'Cabin_deck_int', \n",
    "                           'Cabin_num_int', \n",
    "                           'Cabin_side_int', \n",
    "                           'Destination_int',\n",
    "                           'CyroSleep_multipleby_TotalExpense',\n",
    "                           'Expense_InsideRoom',\n",
    "                           'Expense_OutsideRoom',\n",
    "                           'CabinInformation',\n",
    "                           'GroupNumber_multipleby_VIP',\n",
    "                           'log_Destination_multipleby_CryoSleep',\n",
    "                           'GroupNumber_mutipleby_TotalExpense'],\n",
    "\n",
    "\n",
    "   # significant variables set 1 for Logistic Regression\n",
    "   'significant_vars_1' : ['Expense_InsideRoom',\n",
    "                           'CyroSleep_multipleby_TotalExpense',\n",
    "                           'GroupNumber_mutipleby_TotalExpense',\n",
    "                           'Expense_OutsideRoom',\n",
    "                           'Cabin_deck_int',\n",
    "                           'HomePlanet_int',\n",
    "                           'Destination_int',\n",
    "                           'Cabin_side_int'],\n",
    "    \n",
    "\n",
    "    \n",
    "   # significant variables set 2 for Ridge Classifier\n",
    "   'significant_vars_2' : ['Expense_InsideRoom',\n",
    "                           'CyroSleep_multipleby_TotalExpense',\n",
    "                           'GroupNumber_mutipleby_TotalExpense',\n",
    "                           'Expense_OutsideRoom',\n",
    "                           'HomePlanet_int',\n",
    "                           'Destination_int',\n",
    "                           'Cabin_side_int']\n",
    "}"
   ]
  },
  {
   "cell_type": "markdown",
   "id": "5170ad01",
   "metadata": {
    "papermill": {
     "duration": 0.005844,
     "end_time": "2023-03-07T01:28:34.776269",
     "exception": false,
     "start_time": "2023-03-07T01:28:34.770425",
     "status": "completed"
    },
    "tags": []
   },
   "source": [
    "----------------------------------------\n",
    "Since training and testing sets have already been developed, the X-features we want to model with and the y-variable are selected respectively.<br>"
   ]
  },
  {
   "cell_type": "code",
   "execution_count": 166,
   "id": "8a6b1117",
   "metadata": {
    "execution": {
     "iopub.execute_input": "2023-03-07T01:28:34.790810Z",
     "iopub.status.busy": "2023-03-07T01:28:34.790010Z",
     "iopub.status.idle": "2023-03-07T01:28:34.810939Z",
     "shell.execute_reply": "2023-03-07T01:28:34.809203Z"
    },
    "papermill": {
     "duration": 0.032314,
     "end_time": "2023-03-07T01:28:34.814556",
     "exception": false,
     "start_time": "2023-03-07T01:28:34.782242",
     "status": "completed"
    },
    "tags": []
   },
   "outputs": [],
   "source": [
    "# setting explanatory variable(s) with most correlated x-variable\n",
    "x_train = titanic_df.loc[ : , candidate_dict['full_vars']][titanic_df['set'] == 'Training' ]\n",
    "\n",
    "\n",
    "# setting response variable\n",
    "y_train = titanic_df[ 'Transported' ][ titanic_df['set']   == 'Training' ]"
   ]
  },
  {
   "cell_type": "markdown",
   "id": "caed9808",
   "metadata": {
    "papermill": {
     "duration": 0.008256,
     "end_time": "2023-03-07T01:28:34.831244",
     "exception": false,
     "start_time": "2023-03-07T01:28:34.822988",
     "status": "completed"
    },
    "tags": []
   },
   "source": [
    "------------------------------------------------------------------\n",
    "Even though there's already a testing set, it's a good idea to build one on the training data to assess model performance and stability qualities."
   ]
  },
  {
   "cell_type": "code",
   "execution_count": 167,
   "id": "4926b6a6",
   "metadata": {
    "execution": {
     "iopub.execute_input": "2023-03-07T01:28:34.853575Z",
     "iopub.status.busy": "2023-03-07T01:28:34.850660Z",
     "iopub.status.idle": "2023-03-07T01:28:34.874821Z",
     "shell.execute_reply": "2023-03-07T01:28:34.873654Z"
    },
    "papermill": {
     "duration": 0.037867,
     "end_time": "2023-03-07T01:28:34.877759",
     "exception": false,
     "start_time": "2023-03-07T01:28:34.839892",
     "status": "completed"
    },
    "tags": []
   },
   "outputs": [],
   "source": [
    "# developing training and validation sets\n",
    "x_train_1, x_train_2, y_train_1, y_train_2 = train_test_split(\n",
    "            x_train,\n",
    "            y_train,\n",
    "            random_state = 130,\n",
    "            test_size    = 0.25,\n",
    "            stratify     = y_train)"
   ]
  },
  {
   "cell_type": "markdown",
   "id": "2000e7c5",
   "metadata": {},
   "source": [
    "<hr style=\"height:.9px;border:none;color:#333;background-color:#333;\" />\n",
    "\n",
    "**Gradient Boosting Machine**\n",
    "(Non-Parametric)"
   ]
  },
  {
   "cell_type": "markdown",
   "id": "9dd38e0d",
   "metadata": {},
   "source": [
    "Hyperparameter Tuning (comment out)"
   ]
  },
  {
   "cell_type": "code",
   "execution_count": 168,
   "id": "c691eb5a",
   "metadata": {},
   "outputs": [],
   "source": [
    "# comment out: hyperparameter tuning - already done\n",
    "\n",
    "# declaring a hyperparameter space\n",
    "# loss_range              = ['deviance', 'exponential']                         # loss\n",
    "# learning_rate_range     = [0.05, 0.1, 0.2]                                    # learning_rate\n",
    "# n_estimators_range      = range(150, 200, 1)                                  # n_estimators\n",
    "# criterion_range         = ['friedman_mse', 'squared_error', 'mse', 'mae']     # criterion\n",
    "# min_samples_split_range = [2, 3, 4, 5, 6, 7, 8]                               # min_samples_split\n",
    "# min_samples_leaf_range  = [1, 3, 5, 7, 9, 11]                                 # min_samples_split\n",
    "# max_depth_range         = range(5, 8, 1)                                      # max_depth\n",
    "# maxfeatures_range       = [\"auto\", \"sqrt\", \"log2\"]                            # max_features\n",
    "#\n",
    "#\n",
    "# creating a hyperparameter grid\n",
    "# param_grid_gbm = {'criterion'        : criterion_range,\n",
    "#                   'loss'             : loss_range,\n",
    "#                   'learning_rate'    : learning_rate_range,\n",
    "#                   'n_estimators'     : n_estimators_range,\n",
    "#                   'min_samples_split': min_samples_split_range,\n",
    "#                   'min_samples_leaf' : min_samples_leaf_range,\n",
    "#                   'max_depth'        : max_depth_range,\n",
    "#                   'max_features'     : maxfeatures_range}\n",
    "#\n",
    "#\n",
    "# INSTANTIATING the model object without hyperparameters\n",
    "# model_gbm = sklearn.ensemble.GradientBoostingClassifier(random_state = 219)\n",
    "#\n",
    "#\n",
    "# RandomizedSearchCV object\n",
    "# model_cv_gbm = RandomizedSearchCV(estimator          = model_gbm,\n",
    "#                                  param_distributions = param_grid_gbm,\n",
    "#                                  n_iter              = 1000,\n",
    "#                                  cv                  = 5,\n",
    "#                                  random_state       = 219 )\n",
    "#\n",
    "#\n",
    "# FITTING to the FULL DATASET (due to cross-validation)\n",
    "# model_cv_gbm.fit(x_train_1f, y_train_1)\n",
    "# \n",
    "#\n",
    "# printing the optimal parameters and best score\n",
    "# print(f\"Tuned Parameters: {model_cv_gbm.best_params_}\")\n",
    "# print(f\"Tuned R-Square:   {model_cv_gbm.best_score_}\")"
   ]
  },
  {
   "cell_type": "markdown",
   "id": "aee72ba2",
   "metadata": {},
   "source": [
    "Develop Tuned Model"
   ]
  },
  {
   "cell_type": "code",
   "execution_count": 169,
   "id": "d0d77dd5",
   "metadata": {
    "execution": {
     "iopub.execute_input": "2023-03-07T01:28:34.909740Z",
     "iopub.status.busy": "2023-03-07T01:28:34.909344Z",
     "iopub.status.idle": "2023-03-07T01:28:34.952837Z",
     "shell.execute_reply": "2023-03-07T01:28:34.951241Z"
    },
    "papermill": {
     "duration": 0.054449,
     "end_time": "2023-03-07T01:28:34.956214",
     "exception": false,
     "start_time": "2023-03-07T01:28:34.901765",
     "status": "completed"
    },
    "tags": []
   },
   "outputs": [],
   "source": [
    "# picking a model_gbm name\n",
    "model_gbm_name = \"Gradient Boosting Machine\"\n",
    "\n",
    "\n",
    "# sort \"only significant\" explanatory variables for parametric model_gbms\n",
    "x_train_1 = x_train_1[candidate_dict['full_vars']]\n",
    "x_train_2 = x_train_2[candidate_dict['full_vars']]\n",
    "\n",
    "\n",
    "# INSTANTIATING a model_gbm object - CHANGE THIS AS NEEDED\n",
    "model_gbm = sklearn.ensemble.GradientBoostingClassifier(max_depth         = 5,\n",
    "                                                        min_samples_split = 129,\n",
    "                                                        learning_rate     = 0.05017,\n",
    "                                                        min_samples_leaf  = 1,\n",
    "                                                        max_leaf_nodes    = 35,\n",
    "                                                        random_state      = 219)\n",
    "\n",
    "\n",
    "# FITTING to the training data\n",
    "model_gbm_fit = model_gbm.fit(x_train_1, y_train_1)\n",
    "\n",
    "\n",
    "# PREDICTING on the response variable\n",
    "model_gbm_train_pred = model_gbm_fit.predict(x_train_1)\n",
    "model_gbm_valid_pred = model_gbm_fit.predict(x_train_2)\n",
    "\n",
    "\n",
    "# SCORING the results (accuracy)\n",
    "model_gbm_train_score = model_gbm.score(x_train_1, y_train_1).round(4)  # training accuracy\n",
    "model_gbm_valid_score = model_gbm.score(x_train_2, y_train_2).round(4)  # validation accuracy\n",
    "\n",
    "\n",
    "# SCORING the results (auc)\n",
    "model_gbm_train_auc = roc_auc_score(y_true  = y_train_1,\n",
    "                                    y_score = model_gbm_train_pred).round(decimals = 4)\n",
    "\n",
    "model_gbm_valid_auc = roc_auc_score(y_true  = y_train_2,\n",
    "                                    y_score = model_gbm_valid_pred).round(decimals = 4)\n",
    "model_gbm_confusion_matrix = confusion_matrix(y_true = y_train_2, \n",
    "                                              y_pred = model_gbm_valid_pred)   # confusion matrix\n",
    "\n",
    "\n",
    "# Unpack the confusion matrix\n",
    "model_gbm_tn, \\\n",
    "model_gbm_fp, \\\n",
    "model_gbm_fn, \\\n",
    "model_gbm_tp = confusion_matrix(y_true = y_train_2, \n",
    "                                y_pred = model_gbm_valid_pred).ravel()\n",
    "\n",
    "\n",
    "# Comment out: Output the results of each model in \"Final Results\" below due to the restriction of the number of tables.\n",
    "\n",
    "# displaying results\n",
    "# print(f'''\n",
    "# ============================\n",
    "# {model_gbm_name}\n",
    "# ============================\n",
    "#\n",
    "# Score\n",
    "# ----------------------------\n",
    "# Training Accuracy   : {model_gbm_train_score}\n",
    "# Validation Accuracy : {model_gbm_valid_score}\n",
    "# Accuracy Gap        : {abs(model_gbm_valid_score - model_gbm_train_score).round(decimals=4)}\n",
    "# Training AUC        : {model_gbm_train_auc}\n",
    "# Validation AUC      : {model_gbm_valid_auc}\n",
    "# AUC Gap             : {abs(model_gbm_valid_auc - model_gbm_train_auc).round(decimals=4)}\n",
    "# ----------------------------\n",
    "#\n",
    "# Confusion Matrix\n",
    "# ----------------------------\n",
    "# True Negatives      : {model_gbm_tn}\n",
    "# False Positives     : {model_gbm_fp}\n",
    "# False Negatives     : {model_gbm_fn}\n",
    "# True Positives      : {model_gbm_tp}\n",
    "# ----------------------------\n",
    "# ''')"
   ]
  },
  {
   "cell_type": "markdown",
   "id": "c24b0db9",
   "metadata": {},
   "source": [
    "Definition of plotting feature importance"
   ]
  },
  {
   "cell_type": "code",
   "execution_count": 170,
   "id": "e244cbc1",
   "metadata": {},
   "outputs": [],
   "source": [
    "# plot_feature_importances\n",
    "def plot_feature_importances(model, train, export = False):\n",
    "    \"\"\"\n",
    "    Plots the importance of features from a CART model.\n",
    "    \n",
    "    PARAMETERS\n",
    "    ----------\n",
    "    model  : CART model\n",
    "    train  : explanatory variable training data\n",
    "    export : whether or not to export as a .png image, default False\n",
    "    \"\"\"\n",
    "    \n",
    "    # declaring the number\n",
    "    n_features = x_train.shape[1]\n",
    " \n",
    "\n",
    "    # setting plot window\n",
    "    fig, ax = plt.subplots(figsize=(6,4))    \n",
    "    plt.barh(range(n_features), model.feature_importances_, align='center')\n",
    "    plt.yticks(np.arange(n_features), train.columns)\n",
    "    plt.xlabel(\"Feature importance\")\n",
    "    plt.ylabel(\"Feature\")\n",
    "    \n",
    "    if export == True:\n",
    "        plt.savefig('Tree_Leaf_50_Feature_Importance.png')"
   ]
  },
  {
   "cell_type": "markdown",
   "id": "ca0e12d8",
   "metadata": {},
   "source": [
    "<hr style=\"height:.9px;border:none;color:#333;background-color:#333;\" />\n",
    "\n",
    "**Random Forest**\n",
    "(Non-Parametric)"
   ]
  },
  {
   "cell_type": "markdown",
   "id": "ae09a725",
   "metadata": {},
   "source": [
    "Hyperparameter Tuning (comment out)"
   ]
  },
  {
   "cell_type": "code",
   "execution_count": 171,
   "id": "9b72d77a",
   "metadata": {},
   "outputs": [],
   "source": [
    "# comment out: hyperparameter tuning - already done\n",
    "\n",
    "# declaring a hyperparameter space\n",
    "# n_estimators_range      = range(100, 200, 1)          # n_estimators\n",
    "# criterion_range         = [\"gini\", \"entropy\"]         # criterion\n",
    "# max_depth_range         = range(3, 11, 1)             # max_depth\n",
    "# min_samples_split_range = [2, 3, 4, 5, 6, 7]          # min_samples_spli\n",
    "# min_samples_leaf_range  = [1, 3, 5, 7, 9, 11]         # min_samples_leaf\n",
    "# maxfeatures_range       = [\"auto\", \"sqrt\", \"log2\"]    # #max_features\n",
    "# n_jobs                  = [1, 2, 3, 4, 5]             # n_jobs\n",
    "#\n",
    "#\n",
    "# creating a hyperparameter grid\n",
    "# param_grid_rf = {'n_estimators'     : n_estimators_range,              \n",
    "#                  'max_depth'        : max_depth_range,\n",
    "#                  'min_samples_split': min_samples_split_range,\n",
    "#                  'min_samples_leaf' : min_samples_leaf_range}\n",
    "#                  'max_features'     : maxfeatures_range}\n",
    "#\n",
    "#\n",
    "# INSTANTIATING the model object without hyperparameters\n",
    "# model_rf = sklearn.ensemble.RandomForestClassifier(random_state = 219)\n",
    "#\n",
    "#\n",
    "# RandomizedSearchCV object\n",
    "# model_cv_rf = RandomizedSearchCV(estimator           = model_rf,\n",
    "#                                  param_distributions = param_grid_rf,\n",
    "#                                  n_iter              = 1000, \n",
    "#                                  cv                  = 5,  \n",
    "#                                  random_state        = 219 )\n",
    "#\n",
    "#\n",
    "# FITTING to the FULL DATASET (due to cross-validation)\n",
    "# model_cv_rf.fit(x_train_1f, y_train_1)\n",
    "#\n",
    "#\n",
    "# printing the optimal parameters and best score\n",
    "# print(f\"Tuned Parameters: {model_cv_rf.best_params_}\")\n",
    "# print(f\"Tuned R-Square:   {model_cv_rf.best_score_}\")"
   ]
  },
  {
   "cell_type": "markdown",
   "id": "3aaa2151",
   "metadata": {},
   "source": [
    "Develop Tuned Model"
   ]
  },
  {
   "cell_type": "code",
   "execution_count": 172,
   "id": "54bb1b0c",
   "metadata": {},
   "outputs": [],
   "source": [
    "# picking a model_rf name\n",
    "model_rf_name = \"Random Forest\"\n",
    "\n",
    "\n",
    "# sort \"only significant\" explanatory variables for parametric model_rfs\n",
    "x_train_1f = x_train_1[candidate_dict['full_vars']]\n",
    "x_train_2f = x_train_2[candidate_dict['full_vars']]\n",
    "\n",
    "\n",
    "# INSTANTIATING a model_rf object - CHANGE THIS AS NEEDED\n",
    "model_rf = sklearn.ensemble.RandomForestClassifier(n_estimators      = 100,\n",
    "                                                   criterion         = 'entropy',\n",
    "                                                   max_depth         = 9,\n",
    "                                                   max_features      = \"auto\",\n",
    "                                                   n_jobs            = 1,\n",
    "                                                   random_state      = 219)\n",
    "\n",
    "\n",
    "# FITTING to the training data\n",
    "model_rf_fit = model_rf.fit(x_train_1f, y_train_1)\n",
    "\n",
    "\n",
    "# PREDICTING on the response variable\n",
    "model_rf_train_pred = model_rf_fit.predict(x_train_1f)\n",
    "model_rf_valid_pred = model_rf_fit.predict(x_train_2f)\n",
    "\n",
    "\n",
    "# SCORING the results (accuracy)\n",
    "model_rf_train_score = model_rf.score(x_train_1f, y_train_1).round(4) # training accuracy\n",
    "model_rf_valid_score = model_rf.score(x_train_2f, y_train_2).round(4) # validation accuracy\n",
    "\n",
    "\n",
    "# SCORING the results (auc)\n",
    "model_rf_train_auc = roc_auc_score(y_true  = y_train_1,\n",
    "                                   y_score = model_rf_train_pred).round(decimals = 4)\n",
    "\n",
    "model_rf_valid_auc = roc_auc_score(y_true  = y_train_2,\n",
    "                                   y_score = model_rf_valid_pred).round(decimals = 4)\n",
    "\n",
    "\n",
    "model_rf_confusion_matrix = confusion_matrix(y_true = y_train_2, \n",
    "                                              y_pred = model_rf_valid_pred)     # confusion matrix\n",
    "\n",
    "\n",
    "# Unpack the confusion matrix\n",
    "model_rf_tn, \\\n",
    "model_rf_fp, \\\n",
    "model_rf_fn, \\\n",
    "model_rf_tp = confusion_matrix(y_true = y_train_2, \n",
    "                                y_pred = model_rf_valid_pred).ravel()\n",
    "\n",
    "\n",
    "# Comment out: Output the results of each model in \"Final Results\" below due to the restriction of the number of tables.\n",
    "\n",
    "# displaying results\n",
    "# print(f'''\n",
    "# ============================\n",
    "# {model_rf_name}\n",
    "# ============================\n",
    "# \n",
    "# Score\n",
    "# ----------------------------\n",
    "# Training Accuracy   : {model_rf_train_score}\n",
    "# Validation Accuracy : {model_rf_valid_score}\n",
    "# Accuracy Gap        : {abs(model_rf_valid_score - model_rf_train_score).round(decimals=4)}\n",
    "# Training AUC        : {model_rf_train_auc}\n",
    "# Validation AUC      : {model_rf_valid_auc}\n",
    "# AUC Gap             : {abs(model_rf_valid_auc - model_rf_train_auc).round(decimals=4)}\n",
    "# ----------------------------\n",
    "# \n",
    "# Confusion Matrix\n",
    "# ----------------------------\n",
    "# True Negatives      : {model_rf_tn}\n",
    "# False Positives     : {model_rf_fp}\n",
    "# False Negatives     : {model_rf_fn}\n",
    "# True Positives      : {model_rf_tp}\n",
    "# ----------------------------\n",
    "# ''')"
   ]
  },
  {
   "cell_type": "markdown",
   "id": "216d82f1",
   "metadata": {},
   "source": [
    "<hr style=\"height:.9px;border:none;color:#333;background-color:#333;\" />\n",
    "\n",
    "**Logistic Regression**\n",
    "(Parametric)"
   ]
  },
  {
   "cell_type": "markdown",
   "id": "e72dece3",
   "metadata": {},
   "source": [
    "Hyperparameter Tuning (comment out)"
   ]
  },
  {
   "cell_type": "code",
   "execution_count": 173,
   "id": "e3c87150",
   "metadata": {},
   "outputs": [],
   "source": [
    "# comment out: hyperparameter tuning - already done\n",
    "\n",
    "# declaring a hyperparameter space\n",
    "# C_range        = range(1,3,1)      # C\n",
    "# max_iter_range = range(100,400,1)  # max_iter      \n",
    "# \n",
    "# \n",
    "# creating a hyperparameter grid\n",
    "# param_grid_logreg = {'C'        : C_range,\n",
    "#                      'max_iter' : max_iter_range}\n",
    "#\n",
    "# \n",
    "# INSTANTIATING the model object without hyperparameters\n",
    "# model_logreg = sklearn.linear_model.LogisticRegression(random_state = 219)\n",
    "#\n",
    "#\n",
    "# RandomizedSearchCV object\n",
    "# model_cv_logreg = RandomizedSearchCV(estimator          = model_logreg,\n",
    "#                                     param_distributions = param_grid_logreg,\n",
    "#                                     n_iter              = 1000,\n",
    "#                                     cv                  = 5,\n",
    "#                                     random_state        = 219 )\n",
    "#\n",
    "#\n",
    "# FITTING to the FULL DATASET (due to cross-validation)\n",
    "# model_cv_logreg.fit(x_train_1s, y_train_1)\n",
    "#\n",
    "#\n",
    "# printing the optimal parameters and best score\n",
    "# print(f\"Tuned Parameters: {model_cv_logreg.best_params_}\")\n",
    "# print(f\"Tuned R-Square:   {model_cv_logreg.best_score_}\")"
   ]
  },
  {
   "cell_type": "markdown",
   "id": "d11ed195",
   "metadata": {},
   "source": [
    "Develop Tuned Model"
   ]
  },
  {
   "cell_type": "code",
   "execution_count": 174,
   "id": "ae473539",
   "metadata": {},
   "outputs": [],
   "source": [
    "# picking a model_logreg name\n",
    "model_logreg_name = \"Logistic Regression\"\n",
    "\n",
    "\n",
    "# sort \"only significant\" explanatory variables for parametric model_logregs\n",
    "x_train_1s = x_train_1[candidate_dict['significant_vars_1']]\n",
    "x_train_2s = x_train_2[candidate_dict['significant_vars_1']]\n",
    "\n",
    "\n",
    "# INSTANTIATING a model_logreg object - CHANGE THIS AS NEEDED\n",
    "model_logreg = sklearn.linear_model.LogisticRegression(C            = 1,\n",
    "                                                       max_iter     = 324,\n",
    "                                                       random_state = 219)\n",
    "\n",
    "\n",
    "# FITTING to the training data\n",
    "model_logreg_fit = model_logreg.fit(x_train_1s, y_train_1)\n",
    "\n",
    "\n",
    "# PREDICTING on the response variable\n",
    "model_logreg_train_pred = model_logreg_fit.predict(x_train_1s)\n",
    "model_logreg_valid_pred = model_logreg_fit.predict(x_train_2s)\n",
    "\n",
    "\n",
    "# SCORING the results (accuracy)\n",
    "model_logreg_train_score = model_logreg.score(x_train_1s, y_train_1).round(4) # training accuracy\n",
    "model_logreg_valid_score = model_logreg.score(x_train_2s, y_train_2).round(4) # validation accuracy\n",
    "\n",
    "# SCORING the results (auc)\n",
    "model_logreg_train_auc = roc_auc_score(y_true  = y_train_1,\n",
    "                                       y_score = model_logreg_train_pred).round(decimals = 4)\n",
    "\n",
    "model_logreg_valid_auc = roc_auc_score(y_true  = y_train_2,\n",
    "                                       y_score = model_logreg_valid_pred).round(decimals = 4)\n",
    "model_logreg_confusion_matrix = confusion_matrix(y_true = y_train_2, \n",
    "                                              y_pred = model_logreg_valid_pred)     # confusion matrix\n",
    "\n",
    "\n",
    "# Unpack the confusion matrix\n",
    "model_logreg_tn, \\\n",
    "model_logreg_fp, \\\n",
    "model_logreg_fn, \\\n",
    "model_logreg_tp = confusion_matrix(y_true = y_train_2, \n",
    "                                y_pred = model_logreg_valid_pred).ravel()\n",
    "\n",
    "\n",
    "# Comment out: Output the results of each model in \"Final Results\" below due to the restriction of the number of tables.\n",
    "\n",
    "# displaying results\n",
    "# print(f'''\n",
    "# ============================\n",
    "# {model_logreg_name}\n",
    "# ============================\n",
    "#\n",
    "# Score\n",
    "# ----------------------------\n",
    "# Training Accuracy   : {model_logreg_train_score}\n",
    "# Validation Accuracy : {model_logreg_valid_score}\n",
    "# Accuracy Gap        : {abs(model_logreg_valid_score - model_logreg_train_score).round(decimals=4)}\n",
    "# Training AUC        : {model_logreg_train_auc}\n",
    "# Validation AUC      : {model_logreg_valid_auc}\n",
    "# AUC Gap             : {abs(model_logreg_valid_auc - model_logreg_train_auc).round(decimals=4)}\n",
    "# ----------------------------\n",
    "#\n",
    "# Confusion Matrix\n",
    "# ----------------------------\n",
    "# True Negatives      : {model_logreg_tn}\n",
    "# False Positives     : {model_logreg_fp}\n",
    "# False Negatives     : {model_logreg_fn}\n",
    "# True Positives      : {model_logreg_tp}\n",
    "# ----------------------------\n",
    "# ''')"
   ]
  },
  {
   "cell_type": "markdown",
   "id": "31320167",
   "metadata": {},
   "source": [
    "<hr style=\"height:.9px;border:none;color:#333;background-color:#333;\" />\n",
    "\n",
    "**Ridge Classifier**\n",
    "(Parametric)"
   ]
  },
  {
   "cell_type": "markdown",
   "id": "716c0859",
   "metadata": {},
   "source": [
    "Hyperparameter Tuning (comment out)"
   ]
  },
  {
   "cell_type": "code",
   "execution_count": 175,
   "id": "351f349e",
   "metadata": {},
   "outputs": [],
   "source": [
    "# comment out: hyperparameter tuning - already done\n",
    "\n",
    "# declaring a hyperparameter sride\n",
    "# alpha_range     = range(1,3,1)            # criterion\n",
    "#\n",
    "#\n",
    "#\n",
    "# creating a hyperparameter grid\n",
    "# param_grid_rid = {'alpha' : alpha_range,\n",
    "#                   'max_features': maxfeatures_range}\n",
    "# \n",
    "#\n",
    "# INSTANTIATING the model object without hyperparameters\n",
    "# model_rid = sklearn.linear_model.RidgeClassifier(random_state = 219)\n",
    "#\n",
    "#\n",
    "# RandomizedSearchCV object\n",
    "# model_cv_rid = RandomizedSearchCV(estimator           = model_rid,\n",
    "#                                  param_distributions  = param_grid_rid,\n",
    "#                                  n_iter               = 1000,\n",
    "#                                  cv                   = 5,\n",
    "#                                  random_state = 219 )\n",
    "#\n",
    "#\n",
    "# FITTING to the FULL DATASET (due to cross-validation)\n",
    "# model_cv_rid.fit(x_train_1s, y_train_1)\n",
    "#\n",
    "#\n",
    "# printing the optimal parameters and best score\n",
    "# print(f\"Tuned Parameters: {model_cv_rid.best_params_}\")\n",
    "# print(f\"Tuned R-Square:   {model_cv_rid.best_score_}\")\n",
    "# "
   ]
  },
  {
   "cell_type": "markdown",
   "id": "7741b992",
   "metadata": {},
   "source": [
    "Develop Tuned Model"
   ]
  },
  {
   "cell_type": "code",
   "execution_count": 176,
   "id": "27565a12",
   "metadata": {},
   "outputs": [],
   "source": [
    "# picking a model_ridge name\n",
    "model_ridge_name = \"Ridge Classifier\"\n",
    "\n",
    "\n",
    "# sort \"only significant\" explanatory variables for parametric model_ridges\n",
    "x_train_1s = x_train_1[candidate_dict['significant_vars_2']]\n",
    "x_train_2s = x_train_2[candidate_dict['significant_vars_2']]\n",
    "\n",
    "# INSTANTIATING a model_ridge object - CHANGE THIS AS NEEDED\n",
    "model_ridge = sklearn.linear_model.RidgeClassifier(alpha        = 1.5,\n",
    "                                                   max_iter     = 200,\n",
    "                                                   solver       = 'svd',\n",
    "                                                   random_state = 219)\n",
    "\n",
    "\n",
    "# FITTING to the training data\n",
    "model_ridge_fit = model_ridge.fit(x_train_1s, y_train_1)\n",
    "\n",
    "\n",
    "# PREDICTING on the response variable\n",
    "model_ridge_train_pred = model_ridge_fit.predict(x_train_1s)\n",
    "model_ridge_valid_pred = model_ridge_fit.predict(x_train_2s)\n",
    "\n",
    "\n",
    "# SCORING the results (accuracy)\n",
    "model_ridge_train_score = model_ridge.score(x_train_1s, y_train_1).round(4) # training accuracy\n",
    "model_ridge_valid_score = model_ridge.score(x_train_2s, y_train_2).round(4) # validation accuracy\n",
    "\n",
    "# SCORING the results (auc)\n",
    "model_ridge_train_auc = roc_auc_score(y_true  = y_train_1,\n",
    "                                      y_score = model_ridge_train_pred).round(decimals = 4)\n",
    "\n",
    "model_ridge_valid_auc = roc_auc_score(y_true  = y_train_2,\n",
    "                                      y_score = model_ridge_valid_pred).round(decimals = 4)\n",
    "model_ridge_confusion_matrix = confusion_matrix(y_true = y_train_2, \n",
    "                                              y_pred = model_ridge_valid_pred)     # confusion matrix\n",
    "\n",
    "\n",
    "# Unpack the confusion matrix\n",
    "model_ridge_tn, \\\n",
    "model_ridge_fp, \\\n",
    "model_ridge_fn, \\\n",
    "model_ridge_tp = confusion_matrix(y_true = y_train_2, \n",
    "                                y_pred = model_ridge_valid_pred).ravel()\n",
    "\n",
    "\n",
    "# Comment out: Output the results of each model in \"Final Results\" below due to the restriction of the number of tables.\n",
    "\n",
    "# displaying results\n",
    "# print(f'''\n",
    "# ============================\n",
    "# {model_ridge_name}\n",
    "# ============================\n",
    "#\n",
    "# Score\n",
    "# ----------------------------\n",
    "# Training Accuracy   : {model_ridge_train_score}\n",
    "# Validation Accuracy : {model_ridge_valid_score}\n",
    "# Accuracy Gap        : {abs(model_ridge_valid_score - model_ridge_train_score).round(decimals=4)}\n",
    "# Training AUC        : {model_ridge_train_auc}\n",
    "# Validation AUC      : {model_ridge_valid_auc}\n",
    "# AUC Gap             : {abs(model_ridge_valid_auc - model_ridge_train_auc).round(decimals=4)}\n",
    "# ----------------------------\n",
    "#\n",
    "# Confusion Matrix\n",
    "# ----------------------------\n",
    "# True Negatives      : {model_ridge_tn}\n",
    "# False Positives     : {model_ridge_fp}\n",
    "# False Negatives     : {model_ridge_fn}\n",
    "# True Positives      : {model_ridge_tp}\n",
    "# ----------------------------\n",
    "# ''')"
   ]
  },
  {
   "cell_type": "markdown",
   "id": "94f70628",
   "metadata": {},
   "source": [
    "**VotingClassifier (RF & GBM & Logreg & Ridge)**\n",
    "(ensemble model)"
   ]
  },
  {
   "cell_type": "markdown",
   "id": "231ce09f",
   "metadata": {},
   "source": [
    "Develop Tuned Model:\n",
    "- An ensemble model of the aforementioned GBM and RF models and models with slightly modified parameters for them, for a total of four models, is developed in Voting Classifier."
   ]
  },
  {
   "cell_type": "code",
   "execution_count": 177,
   "id": "ec898026",
   "metadata": {},
   "outputs": [],
   "source": [
    "# picking a model name\n",
    "model_vote_name = \"Voting Classifier\"\n",
    "\n",
    "\n",
    "# sort \"only significant\" explanatory variables for parametric models\n",
    "x_train_1f = x_train_1[candidate_dict['full_vars']]\n",
    "x_train_2f = x_train_2[candidate_dict['full_vars']]\n",
    "\n",
    "\n",
    "# INSTANTIATING a model object\n",
    "clf1 = sklearn.ensemble.GradientBoostingClassifier(max_depth         = 5,\n",
    "                                                   min_samples_split = 129,\n",
    "                                                   learning_rate     = 0.05017,\n",
    "                                                   min_samples_leaf  = 1,\n",
    "                                                   max_leaf_nodes    = 35,\n",
    "                                                   random_state      = 219)\n",
    "\n",
    "\n",
    "clf2 = sklearn.ensemble.RandomForestClassifier(n_estimators          = 100,\n",
    "                                               criterion             = 'entropy',\n",
    "                                               max_depth             = 9,\n",
    "                                               max_features          = \"auto\",\n",
    "                                               n_jobs                = 1,\n",
    "                                               random_state          = 219)\n",
    "\n",
    "\n",
    "clf3 = sklearn.ensemble.GradientBoostingClassifier(max_depth         = 5,\n",
    "                                                   min_samples_split = 120,\n",
    "                                                   learning_rate     = 0.039,\n",
    "                                                   min_samples_leaf  = 3,\n",
    "                                                   random_state      = 219)\n",
    "\n",
    "\n",
    "clf4 = sklearn.ensemble.RandomForestClassifier(n_estimators          = 180,\n",
    "                                               criterion             = 'entropy',\n",
    "                                               max_depth             = 6,\n",
    "                                               max_features          = \"auto\",\n",
    "                                               n_jobs                = 1,\n",
    "                                               random_state          = 219)\n",
    "\n",
    "\n",
    "model_vote = sklearn.ensemble.VotingClassifier(estimators=[('gb1', clf1), ('rf1', clf2), ('gb2', clf3), ('rf2', clf4)],\n",
    "                                               voting='hard')\n",
    "\n",
    "\n",
    "# FITTING to the training data\n",
    "model_vote_fit = model_vote.fit(x_train_1f, y_train_1)\n",
    "\n",
    "\n",
    "# PREDICTING on the response variable\n",
    "model_vote_train_pred = model_vote_fit.predict(x_train_1f)\n",
    "model_vote_valid_pred = model_vote_fit.predict(x_train_2f)\n",
    "\n",
    "\n",
    "# SCORING the results (accuracy)\n",
    "model_vote_train_score = model_vote.score(x_train_1f, y_train_1).round(4) # training accuracy\n",
    "model_vote_valid_score = model_vote.score(x_train_2f, y_train_2).round(4) # validation accuracy\n",
    "\n",
    "\n",
    "# SCORING the results (auc)\n",
    "model_vote_train_auc = roc_auc_score(y_true  = y_train_1,\n",
    "                                     y_score = model_vote_train_pred).round(decimals = 4)\n",
    "\n",
    "model_vote_valid_auc = roc_auc_score(y_true  = y_train_2,\n",
    "                                     y_score = model_vote_valid_pred).round(decimals = 4)\n",
    "\n",
    "model_vote_confusion_matrix = confusion_matrix(y_true = y_train_2, \n",
    "                                               y_pred = model_vote_valid_pred)     # confusion matrix\n",
    "\n",
    "\n",
    "# Unpack the confusion matrix\n",
    "model_vote_tn, \\\n",
    "model_vote_fp, \\\n",
    "model_vote_fn, \\\n",
    "model_vote_tp = confusion_matrix(y_true = y_train_2, \n",
    "                                 y_pred = model_vote_valid_pred).ravel()\n",
    "\n",
    "\n",
    "# Comment out: Output the results of each model in \"Final Results\" below due to the restriction of the number of tables.\n",
    "\n",
    "# displaying results\n",
    "# print(f'''\n",
    "# ============================\n",
    "# {model_vote_name}\n",
    "# ============================\n",
    "#\n",
    "# Score\n",
    "# ----------------------------\n",
    "# Training Accuracy   : {model_vote_train_score}\n",
    "# Validation Accuracy : {model_vote_valid_score}\n",
    "# Accuracy Gap        : {abs(model_vote_valid_score - model_vote_train_score).round(decimals=4)}\n",
    "# Training AUC        : {model_vote_train_auc}\n",
    "# Validation AUC      : {model_vote_valid_auc}\n",
    "# AUC Gap             : {abs(model_vote_valid_auc - model_vote_train_auc).round(decimals=4)}\n",
    "# ----------------------------\n",
    "#\n",
    "# Confusion Matrix\n",
    "# ----------------------------\n",
    "# True Negatives      : {model_vote_tn}\n",
    "# False Positives     : {model_vote_fp}\n",
    "# False Negatives     : {model_vote_fn}\n",
    "# True Positives      : {model_vote_tp}\n",
    "# ----------------------------\n",
    "# ''')"
   ]
  },
  {
   "cell_type": "markdown",
   "id": "dddf5e2a",
   "metadata": {},
   "source": [
    "**Final Results of All Models**"
   ]
  },
  {
   "cell_type": "code",
   "execution_count": 178,
   "id": "64d3369d",
   "metadata": {},
   "outputs": [
    {
     "name": "stdout",
     "output_type": "stream",
     "text": [
      "\n",
      "\n",
      "The final model type is Gradient Boosting Machine with the best \"Validation Accuracy\" of 0.8059.\n",
      "\n",
      "================\n",
      "Accuracy\n",
      "================\n",
      "\n",
      "---------------------------------------------------------------------------------\n",
      " Model Type                | Train Accuracy | Validation Accuracy | Accuracy Gap \n",
      "---------------------------|----------------|---------------------|--------------\n",
      " Gradient Boosting Machine | 0.8426         | 0.8059              | 0.0367\n",
      " Random Forest             | 0.8415         | 0.7958              | 0.0457\n",
      " Logistic Regression       | 0.7543         | 0.7645              | 0.0102\n",
      " Ridge Classifier          | 0.7549         | 0.7608              | 0.0059\n",
      " Voting Classifier         | 0.8346         | 0.8036              | 0.031\n",
      "---------------------------------------------------------------------------------\n",
      "\n",
      "\n",
      "================\n",
      "AUC\n",
      "================\n",
      "\n",
      "---------------------------------------------------------------------------------\n",
      " Model Type                | Train Accuracy | Validation Accuracy | Accuracy Gap \n",
      "---------------------------|----------------|---------------------|--------------\n",
      " Gradient Boosting Machine | 0.8425         | 0.8058              | 0.0367\n",
      " Random Forest             | 0.8413         | 0.7955              | 0.0458\n",
      " Logistic Regression       | 0.7543         | 0.7645              | 0.0102\n",
      " Ridge Classifier          | 0.7551         | 0.7609              | 0.0058\n",
      " Voting Classifier         | 0.8346         | 0.8036              | 0.031\n",
      "---------------------------------------------------------------------------------\n",
      "\n",
      "\n",
      "================\n",
      "Confusion Matrix\n",
      "================\n",
      "\n",
      "---------------------------------------------------\n",
      " Model Type                | TN  | FP  | FN  | TP \n",
      "---------------------------|-----|-----|-----|-----\n",
      " Gradient Boosting Machine | 862 | 217 | 205 | 890\n",
      " Random Forest             | 825 | 254 | 190 | 905\n",
      " Logistic Regression       | 820 | 259 | 253 | 842\n",
      " Ridge Classifier          | 839 | 240 | 280 | 815\n",
      " Voting Classifier         | 867 | 212 | 215 | 880\n",
      "---------------------------------------------------\n",
      "\n"
     ]
    }
   ],
   "source": [
    "# Create a dictionary for each model name and the valid score\n",
    "d = {model_gbm_name: model_gbm_valid_score,\n",
    "     model_rf_name: model_rf_valid_score,\n",
    "     model_logreg_name: model_logreg_valid_score,\n",
    "     model_ridge_name: model_ridge_valid_score,\n",
    "     model_vote_name: model_vote_valid_score,    \n",
    "    }\n",
    "\n",
    "\n",
    "# Select the name and score of the model with the highest score\n",
    "max_k = max(d, key=d.get)   # Model name of the best model\n",
    "max_v = max(d.values())     # valid score of the best model\n",
    "\n",
    "\n",
    "# Display table of outputs for each model\n",
    "# Select and print the best model\n",
    "print(f'''\n",
    "\n",
    "The final model type is {max_k} with the best \"Validation Accuracy\" of {max_v}.\n",
    "\n",
    "================\n",
    "Accuracy\n",
    "================\n",
    "\n",
    "---------------------------------------------------------------------------------\n",
    " Model Type                | Train Accuracy | Validation Accuracy | Accuracy Gap \n",
    "---------------------------|----------------|---------------------|--------------\n",
    " {model_gbm_name} | {model_gbm_train_score}         | {model_gbm_valid_score}              | {abs(model_gbm_valid_score - model_gbm_train_score).round(decimals=4)}\n",
    " {model_rf_name}             | {model_rf_train_score}         | {model_rf_valid_score}              | {abs(model_rf_valid_score - model_rf_train_score).round(decimals=4)}\n",
    " {model_logreg_name}       | {model_logreg_train_score}         | {model_logreg_valid_score}              | {abs(model_logreg_valid_score - model_logreg_train_score).round(decimals=4)}\n",
    " {model_ridge_name}          | {model_ridge_train_score}         | {model_ridge_valid_score}              | {abs(model_ridge_valid_score - model_ridge_train_score).round(decimals=4)}\n",
    " {model_vote_name}         | {model_vote_train_score}         | {model_vote_valid_score}              | {abs(model_vote_valid_score - model_vote_train_score).round(decimals=4)}\n",
    "---------------------------------------------------------------------------------\n",
    "\n",
    "\n",
    "================\n",
    "AUC\n",
    "================\n",
    "\n",
    "---------------------------------------------------------------------------------\n",
    " Model Type                | Train Accuracy | Validation Accuracy | Accuracy Gap \n",
    "---------------------------|----------------|---------------------|--------------\n",
    " {model_gbm_name} | {model_gbm_train_auc}         | {model_gbm_valid_auc}              | {abs(model_gbm_valid_auc - model_gbm_train_auc).round(decimals=4)}\n",
    " {model_rf_name}             | {model_rf_train_auc}         | {model_rf_valid_auc}              | {abs(model_rf_valid_auc - model_rf_train_auc).round(decimals=4)}\n",
    " {model_logreg_name}       | {model_logreg_train_auc}         | {model_logreg_valid_auc}              | {abs(model_logreg_valid_auc - model_logreg_train_auc).round(decimals=4)}\n",
    " {model_ridge_name}          | {model_ridge_train_auc}         | {model_ridge_valid_auc}              | {abs(model_ridge_valid_auc - model_ridge_train_auc).round(decimals=4)}\n",
    " {model_vote_name}         | {model_vote_train_auc}         | {model_vote_valid_auc}              | {abs(model_vote_valid_auc - model_vote_train_auc).round(decimals=4)}\n",
    "---------------------------------------------------------------------------------\n",
    "\n",
    "\n",
    "================\n",
    "Confusion Matrix\n",
    "================\n",
    "\n",
    "---------------------------------------------------\n",
    " Model Type                | TN  | FP  | FN  | TP \n",
    "---------------------------|-----|-----|-----|-----\n",
    " {model_gbm_name} | {model_gbm_tn} | {model_gbm_fp} | {model_gbm_fn} | {model_gbm_tp}\n",
    " {model_rf_name}             | {model_rf_tn} | {model_rf_fp} | {model_rf_fn} | {model_rf_tp}\n",
    " {model_logreg_name}       | {model_logreg_tn} | {model_logreg_fp} | {model_logreg_fn} | {model_logreg_tp}\n",
    " {model_ridge_name}          | {model_ridge_tn} | {model_ridge_fp} | {model_ridge_fn} | {model_ridge_tp}\n",
    " {model_vote_name}         | {model_vote_tn} | {model_vote_fp} | {model_vote_fn} | {model_vote_tp}\n",
    "---------------------------------------------------\n",
    "''')"
   ]
  },
  {
   "cell_type": "markdown",
   "id": "26da053e",
   "metadata": {},
   "source": [
    "**<u>Analysis Outputs 4</u>**\n",
    "- The final model type is Gradient Boosting Machine with the best \"Validation Accuracy\" of 0.8059. This means 80.59% prediction accuracy.Validation Accuracy is a local score validated by splitting train data and is one of the indicators of forecast accuracy. In this case, this Accuracy is the Metrix that measures the accuracy of the predictive model.\n",
    "- Validation Accuracy of the models developed other than GBM also has a score close to 0.8, which guarantees a certain level of validity as a model.\n",
    "- Accuracy Gap is the difference between Train Accuracy and Validation Accuracy, the smaller the better. The smaller the gap, the better. If the gap is large, the model tends to overfit the train data. However, all models developed in this study minimize the difference within 0.05, which is appropriate.\n",
    "- Similarly, both the accuracy and validity of AUC are found to be adequate for all models; AUC is a different predictive accuracy metric than Accuracy. Although it is not the metric for this competition, it is useful to ensure the validity of the model with multiple metrics.\n",
    "- The respective values of the Confusion Matrix for each model are shown above. For a detailed explanation, see below."
   ]
  },
  {
   "cell_type": "markdown",
   "id": "641db89c",
   "metadata": {},
   "source": [
    "**Interpretation of Each Error from Confusion Matrix**\n",
    "\n",
    "~~~\n",
    "\n",
    "  =====================                  |  =====================                          \n",
    "  True Negatives                         |  False Positives     \n",
    "  =====================                  |  =====================\n",
    "                                         |\n",
    "  PREDICTED:                             |  PREDICTED:\n",
    "  Not Transported (Transported = 0)      |  Transported (Transported = 1)\n",
    "                                         |\n",
    "  ACTUAL:                                |  ACTUAL:\n",
    "  Not Transported (Transported = 0)      |  Not Transported (Transported = 0)\n",
    "                                         |\n",
    "-----------------------------------------|---------------------------------------------------\n",
    "                                         |\n",
    "  =====================                  |  =====================                          \n",
    "  False Negatives                        |  True Positives   \n",
    "  =====================                  |  =====================\n",
    "                                         |\n",
    "  PREDICTED:                             |  PREDICTED:\n",
    "  Not Transported (Transported = 0)      |  Transported (Transported = 1)\n",
    "                                         |\n",
    "  ACTUAL:                                |  ACTUAL:\n",
    "  Transported (Transported = 1)          |  Transported (Transported = 1)\n",
    "                                         |  \n",
    "~~~\n",
    "**<u>Analysis Outputs 5</u>**<br>\n",
    "- The table above shows the Confusion Matrix for this case. The Confusion matrix compares the predicted results with the actual results and shows four values: True Positive, False Positive, True Negative, and False Negative.\n",
    "- In the \"Space Titanic\" case, False Positive requires closer consideration. When the predicted class is \"Not Transported\" but the actual class is \"Transported\". This leads to an underestimation of the proportion of passengers who would be transported, since those who are transported are incorrectly predicted to be not transported. This may result in inadequate countermeasures, which is not desirable for safety perspectives."
   ]
  },
  {
   "cell_type": "markdown",
   "id": "8d857a0d",
   "metadata": {},
   "source": [
    "**Feature Importance of the Best Model (GBM)**"
   ]
  },
  {
   "cell_type": "code",
   "execution_count": 179,
   "id": "2de0f169",
   "metadata": {},
   "outputs": [
    {
     "data": {
      "image/png": "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\n",
      "text/plain": [
       "<Figure size 600x400 with 1 Axes>"
      ]
     },
     "metadata": {},
     "output_type": "display_data"
    }
   ],
   "source": [
    "# plotting feature importance\n",
    "plot_feature_importances(model_gbm,\n",
    "                         train  = x_train_1,\n",
    "                         export = False)"
   ]
  },
  {
   "cell_type": "markdown",
   "id": "9c13ee4c",
   "metadata": {},
   "source": [
    "**<u>Data Visualization 6</u>**\n",
    "\n",
    "- This is the best model GBM feature imporatance. In other words, it shows which features contribute to this predictive model and to what extent.\n",
    "- As you can see in the figure, Expense_insideRoom is the most important for this model. This feature, simply interpreted, corresponds to the \"use of in-room services\" such as Spa, Room Service, and VRDeck.\n",
    "- The next important feature for this model is HomePlanet_int. This shows that HomePlanet affects whether passengers are transported or not.\n",
    "- log_ShoppingMalls and FoodCourt also contribute to this forecasting model. This indicates that the use of shopping malls and food codes affects whether passengers are Transported or not.\n",
    "- Cabin_side_int, Cabin_num_int, and Cabin_deck_int also contribute a bit to this model. This implies that the location of cabins has a small effect on whether passengers are Transported or not.\n",
    "- In conclusion, the features listed above are important in predicting whether a passenger was Transported. When combined with the objective facts identified in the aforementioned processes, such as EDA, insights into improving the safety of future commercial space travel can be drawn. Our insights will be mentioned in the concluding part."
   ]
  },
  {
   "cell_type": "markdown",
   "id": "2f9843cf",
   "metadata": {},
   "source": [
    "<hr style=\"height:.9px;border:none;color:#333;background-color:#333;\" />\n",
    "\n",
    "# Creating and Submitting Predictions"
   ]
  },
  {
   "cell_type": "markdown",
   "id": "6b73376e",
   "metadata": {
    "papermill": {
     "duration": 0.005998,
     "end_time": "2023-03-07T01:28:34.969018",
     "exception": false,
     "start_time": "2023-03-07T01:28:34.963020",
     "status": "completed"
    },
    "tags": []
   },
   "source": [
    "Save and Submit the results of the all model predictions as a .csv file. This file contain exactly two columns:\n",
    "1. PassengerId (from the test set)\n",
    "2. Transported (predictions from your model)"
   ]
  },
  {
   "cell_type": "markdown",
   "id": "9187e397",
   "metadata": {},
   "source": [
    "**Gradient Boosting Machine & Random Forest**"
   ]
  },
  {
   "cell_type": "code",
   "execution_count": 180,
   "id": "458d2bed",
   "metadata": {
    "execution": {
     "iopub.execute_input": "2023-03-07T01:28:34.983753Z",
     "iopub.status.busy": "2023-03-07T01:28:34.982894Z",
     "iopub.status.idle": "2023-03-07T01:28:34.995919Z",
     "shell.execute_reply": "2023-03-07T01:28:34.994664Z"
    },
    "papermill": {
     "duration": 0.023279,
     "end_time": "2023-03-07T01:28:34.998490",
     "exception": false,
     "start_time": "2023-03-07T01:28:34.975211",
     "status": "completed"
    },
    "tags": []
   },
   "outputs": [
    {
     "name": "stdout",
     "output_type": "stream",
     "text": [
      "\n",
      "Gradient Boosting Machine : [1 0 1 ... 1 1 1]\n",
      "Random Forest             : [1 0 1 ... 1 1 1]\n",
      "Logistic Regression       : [1 0 1 ... 1 1 1]\n",
      "Ridge Classifier          : [1 0 1 ... 1 1 1]\n",
      "Voting Classifier         : [1 0 1 ... 1 1 1]\n",
      "\n"
     ]
    }
   ],
   "source": [
    "# setting x_test\n",
    "x_test_f   = titanic_df.loc[ : , candidate_dict['full_vars']][ titanic_df['set'] == 'Testing' ]\n",
    "x_test_s1  = titanic_df.loc[ : , candidate_dict['significant_vars_1']][ titanic_df['set'] == 'Testing' ]\n",
    "x_test_s2  = titanic_df.loc[ : , candidate_dict['significant_vars_2']][ titanic_df['set'] == 'Testing' ]\n",
    "\n",
    "\n",
    "# PREDICTING on new data\n",
    "model_gbm_pred    = model_gbm.predict(x_test_f)\n",
    "model_rf_pred     = model_rf.predict(x_test_f)\n",
    "model_logreg_pred = model_logreg.predict(x_test_s1)\n",
    "model_ridge_pred  = model_ridge.predict(x_test_s2)\n",
    "model_vote_pred   = model_vote.predict(x_test_f)\n",
    "\n",
    "\n",
    "# checking results\n",
    "print(f\"\"\"\n",
    "Gradient Boosting Machine : {model_gbm_pred}\n",
    "Random Forest             : {model_rf_pred}\n",
    "Logistic Regression       : {model_logreg_pred}\n",
    "Ridge Classifier          : {model_ridge_pred}\n",
    "Voting Classifier         : {model_vote_pred}\n",
    "\"\"\")\n",
    "\n",
    "\n",
    "# saving predictions with their respective Ids from the test set\n",
    "predictions_gbm    = pd.DataFrame(data = { 'PassengerId' : titanic_test['PassengerId'],\n",
    "                                           'Transported' : model_gbm_pred.astype(bool)    } )\n",
    "\n",
    "predictions_rf     = pd.DataFrame(data = { 'PassengerId' : titanic_test['PassengerId'],\n",
    "                                           'Transported' : model_rf_pred.astype(bool)     } )\n",
    "\n",
    "predictions_logreg = pd.DataFrame(data = { 'PassengerId' : titanic_test['PassengerId'],\n",
    "                                           'Transported' : model_logreg_pred.astype(bool) } )\n",
    "\n",
    "predictions_ridge  = pd.DataFrame(data = { 'PassengerId' : titanic_test['PassengerId'],\n",
    "                                           'Transported' : model_ridge_pred.astype(bool)  } )\n",
    "\n",
    "predictions_vote   = pd.DataFrame(data = { 'PassengerId' : titanic_test['PassengerId'],\n",
    "                                           'Transported' : model_vote_pred.astype(bool)   } )\n",
    "\n",
    "\n",
    "# sending predictions to .csv file\n",
    "predictions_gbm.to_csv(path_or_buf    = 'submission_gbm.csv',\n",
    "                       index          = False)\n",
    "\n",
    "predictions_rf.to_csv(path_or_buf     = 'submission_rf.csv',\n",
    "                      index           = False)\n",
    "\n",
    "predictions_logreg.to_csv(path_or_buf = 'submission_logreg.csv',\n",
    "                          index       = False)\n",
    "\n",
    "predictions_ridge.to_csv(path_or_buf  = 'submission_ridge.csv',\n",
    "                      index           = False)\n",
    "\n",
    "predictions_vote.to_csv(path_or_buf   = 'submission_vote.csv',\n",
    "                      index           = False)"
   ]
  },
  {
   "cell_type": "markdown",
   "id": "0bd86100",
   "metadata": {},
   "source": [
    "<hr style=\"height:.9px;border:none;color:#333;background-color:#333;\" />\n",
    "\n",
    "# Actionable Insights"
   ]
  },
  {
   "cell_type": "markdown",
   "id": "6833c58a",
   "metadata": {},
   "source": [
    "1. Spacecraft structure, Security, Navigation and Communications Systems<br>\n",
    "The analysis of successful and unsuccessful spacecraft transportation cases provided valuable insights into spacecraft structure, security, and navigation design. \n",
    "Recommendations to secure passengers’ safety are to upgrade advanced technology and safety protocols. For example, install rotating habitat modules that provide artificial gravity, which will help mitigate the effects of prolonged exposure to zero gravity.  In addition, install advanced highly sensitive navigation to detect even the slightest anomalies and communications systems to allow them to communicate with all concerned home planets and point of destinations. \n",
    "Moreover, Decks F and G had the highest number of transported passengers, about 60% of the total passengers aboard. So, reinforcing these decks before embarking on future trips aboard the Spaceship Titanic would be prudent. (Nolan, 2014)\n",
    "<br><br>\n",
    "2. Opportunity for Increased Revenue<br>\n",
    "There is an opportunity for increased revenue by targeting a new demographic for space travel. Although Earth has the largest number of passengers, there have been no VIPs from this planet so far. To capitalize on this potential market, the company should focus on attracting VIPs from Earth in the future. This strategy could also result in increased spending by passengers during the journey, which would contribute to overall revenue growth.\n",
    "(Sheetz, 2022)\n",
    "<br><br>\n",
    "3. Assumptions of hazard scenarios obtained from the forecasting model<br>\n",
    "Spacetime anomalies within dust clouds are rare things that can happen in space and while they are not common occurrences, they are possible under certain circumstances and can provide valuable insights into the behavior of matter and energy in the universe (Shiraz Minwalla, 2005).\n",
    "The assumptions regarding hazard scenarios, which were derived from our forecasting model, suggest that the impact of weight is directly related to gravitational acceleration, as gravitational acceleration increases, weight also increases. Therefore, based on this assumption, it is recommended that special gears and equipment should be provided to passengers for future space travel to protect them against gravitational pulls that transports them to other dimensions and increase the likelihood of survival during any potential anomaly collision. This interpretation is supported by domain knowledge.\n",
    "(David Halliday, 2013)"
   ]
  },
  {
   "cell_type": "markdown",
   "id": "8fbdacb5",
   "metadata": {},
   "source": [
    "<hr style=\"height:.9px;border:none;color:#333;background-color:#333;\" />\n",
    "\n",
    "# Conclusion"
   ]
  },
  {
   "cell_type": "markdown",
   "id": "a24113ae",
   "metadata": {},
   "source": [
    "In conclusion, the primary objective of the analysis was to build models to predict if passengers were Transported or not during Spaceship Titanic’s maiden voyage transporting emigrants from our solar system to three newly habitable exoplanets orbiting nearby stars. Different models were tested, and the Gradient Boosting Machine (GBM) model emerged as the best, with a validation accuracy of 80.59%. The other models also had scores close to 0.8, indicating their validity. The accuracy gap and AUC scores for all models were found to be adequate, indicating the models' effectiveness in predicting the outcomes. \n",
    "<br>\n",
    "<br>\n",
    "It further employed a confusion matrix to compare the predicted results with actual outcomes. False Positive errors were found to require closer consideration, as they might result in significant safety concerns during space travel. False Positives errors are instances where the model incorrectly predicts that a passenger was Transported, but in reality, the passenger was not transported.\n",
    "<br>\n",
    "<br>\n",
    "The confusion matrix identified the most important features for the best model (Gradient Boosting Machine), which are Expense_insideRoom, HomePlanet_int, log_ShoppingMalls, and FoodCourt. These features have a significant impact on whether passengers were transported or not during commercial space travel. Additionally, the location of the cabin (Cabin_side_int, Cabin_num_int, and Cabin_deck_int) had a small effect on whether passengers were Transported or not. Also, how these features influence the outcome, which can be used to improve safety protocols during commercial space travel. For instance, the safety protocols can be strengthened to mitigate the impact of False Positive errors, which could result in safety risks during space travel.\n",
    "<br>\n",
    "<br>\n",
    "The insights gained from the model results, data visualizations, analytical outputs, and exploratory data analysis (EDA) can be used to improve the safety of future commercial space travel while also increasing revenue. \n",
    "<br>\n",
    "<br>\n",
    "Moreover, this analysis can help increase revenue by identifying the most critical factors that influence the outcome. This information can be used to enhance the services offered to passengers and increase their satisfaction, which could lead to increased revenue. For instance, the analysis found that Expense_insideRoom was the most critical feature, implying that passengers are willing to pay more for better accommodation and comfort luxuries like spa, shopping malls during space travel. Therefore, companies providing commercial space travel services can use this information to tailor their services to meet the passengers' needs and increase their satisfaction, ultimately leading to increased revenue."
   ]
  },
  {
   "cell_type": "markdown",
   "id": "4d5fc965",
   "metadata": {},
   "source": [
    "<hr style=\"height:.9px;border:none;color:#333;background-color:#333;\" />\n",
    "\n",
    "**Bibliography:**\n",
    "<br><br>\n",
    "David Halliday, R. R. (2013). Fundamentals of Physics (10th ed.). John Wiley & Sons.\n",
    "<br><br>\n",
    "Nolan, C. (Director). (2014). Interstellar [Motion Picture].\n",
    "<br><br>\n",
    "Sheetz, M. (2022, MAY 21). The space industry is on its way to reach $1 trillion in revenue by 2040, Citi says. Retrieved from CNBC - INVESTING IN SPACE: https://www.cnbc.com/2022/05/21/space-industry-is-on-its-way-to-1-trillion-in-revenue-by-2040-citi.html\n",
    "<br><br>\n",
    "Shiraz Minwalla, M. v. (2005). Spacetime Anomalies in Strongly Coupled Plasmas. Physical Review Letters, 95(26).\n"
   ]
  }
 ],
 "metadata": {
  "kernelspec": {
   "display_name": "Python 3 (ipykernel)",
   "language": "python",
   "name": "python3"
  },
  "language_info": {
   "codemirror_mode": {
    "name": "ipython",
    "version": 3
   },
   "file_extension": ".py",
   "mimetype": "text/x-python",
   "name": "python",
   "nbconvert_exporter": "python",
   "pygments_lexer": "ipython3",
   "version": "3.9.13"
  },
  "papermill": {
   "default_parameters": {},
   "duration": 12.347754,
   "end_time": "2023-03-07T01:28:35.954344",
   "environment_variables": {},
   "exception": null,
   "input_path": "__notebook__.ipynb",
   "output_path": "__notebook__.ipynb",
   "parameters": {},
   "start_time": "2023-03-07T01:28:23.606590",
   "version": "2.4.0"
  },
  "toc": {
   "base_numbering": 1,
   "nav_menu": {},
   "number_sections": true,
   "sideBar": true,
   "skip_h1_title": false,
   "title_cell": "Table of Contents",
   "title_sidebar": "Contents",
   "toc_cell": false,
   "toc_position": {},
   "toc_section_display": true,
   "toc_window_display": false
  },
  "varInspector": {
   "cols": {
    "lenName": 16,
    "lenType": 16,
    "lenVar": 40
   },
   "kernels_config": {
    "python": {
     "delete_cmd_postfix": "",
     "delete_cmd_prefix": "del ",
     "library": "var_list.py",
     "varRefreshCmd": "print(var_dic_list())"
    },
    "r": {
     "delete_cmd_postfix": ") ",
     "delete_cmd_prefix": "rm(",
     "library": "var_list.r",
     "varRefreshCmd": "cat(var_dic_list()) "
    }
   },
   "types_to_exclude": [
    "module",
    "function",
    "builtin_function_or_method",
    "instance",
    "_Feature"
   ],
   "window_display": false
  }
 },
 "nbformat": 4,
 "nbformat_minor": 5
}
